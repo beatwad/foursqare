{
 "cells": [
  {
   "cell_type": "code",
   "execution_count": 1,
   "id": "1b0ff9a2",
   "metadata": {
    "_cell_guid": "b1076dfc-b9ad-4769-8c92-a6c4dae69d19",
    "_uuid": "8f2839f25d086af736a60e9eeb907d3b93b6e0e5",
    "execution": {
     "iopub.execute_input": "2022-06-26T21:10:02.707700Z",
     "iopub.status.busy": "2022-06-26T21:10:02.707263Z",
     "iopub.status.idle": "2022-06-26T21:10:03.911556Z",
     "shell.execute_reply": "2022-06-26T21:10:03.910623Z"
    },
    "papermill": {
     "duration": 1.214549,
     "end_time": "2022-06-26T21:10:03.914447",
     "exception": false,
     "start_time": "2022-06-26T21:10:02.699898",
     "status": "completed"
    },
    "tags": []
   },
   "outputs": [],
   "source": [
    "import os\n",
    "import sys\n",
    "import re\n",
    "import random\n",
    "import string\n",
    "import pickle\n",
    "import math\n",
    "import gc\n",
    "from glob import glob\n",
    "import multiprocessing\n",
    "import numpy as np\n",
    "import pandas as pd\n",
    "from unidecode import unidecode\n",
    "from argparse import Namespace\n",
    "from sklearn.preprocessing import OrdinalEncoder\n",
    "from sklearn.neighbors import NearestNeighbors, KNeighborsRegressor\n",
    "from sklearn.feature_extraction.text import TfidfVectorizer\n",
    "from sklearn.model_selection import GroupKFold, KFold, StratifiedKFold, StratifiedGroupKFold\n",
    "from haversine import haversine\n",
    "\n",
    "from tqdm.auto import tqdm\n",
    "\n",
    "pd.set_option('mode.chained_assignment', None) # Suppress annoying warnings\n",
    "\n",
    "pd.set_option('display.max_rows', 200)\n",
    "pd.set_option('display.max_columns', 600)"
   ]
  },
  {
   "cell_type": "markdown",
   "id": "b28b046c",
   "metadata": {},
   "source": [
    "## Config"
   ]
  },
  {
   "cell_type": "code",
   "execution_count": 2,
   "id": "dd8587a4",
   "metadata": {},
   "outputs": [],
   "source": [
    "CFG = Namespace(\n",
    "    seed = 42,\n",
    "    train = True,\n",
    "    debug = False,\n",
    "    inference = False,\n",
    "    target = \"point_of_interest\",\n",
    "    n_neighbors = 20,\n",
    "    n_splits = 10,\n",
    "    threshold = 0.5,\n",
    "    train_path = 'train_dataset',\n",
    "    model_dir = '../input/fsquarecode/saved/',\n",
    "    encode = False\n",
    ")\n",
    "\n",
    "def seed_everything(seed):\n",
    "    random.seed(seed)\n",
    "    np.random.seed(seed)\n",
    "    os.environ['PYTHONHASHSEED'] = str(seed)\n",
    "    \n",
    "seed_everything(CFG.seed)"
   ]
  },
  {
   "cell_type": "markdown",
   "id": "1cefc08a",
   "metadata": {},
   "source": [
    "## Load and preprocess data"
   ]
  },
  {
   "cell_type": "code",
   "execution_count": 3,
   "id": "d00f602d",
   "metadata": {
    "execution": {
     "iopub.execute_input": "2022-06-26T21:10:03.966239Z",
     "iopub.status.busy": "2022-06-26T21:10:03.965608Z",
     "iopub.status.idle": "2022-06-26T21:10:04.251551Z",
     "shell.execute_reply": "2022-06-26T21:10:04.250870Z"
    },
    "papermill": {
     "duration": 0.293507,
     "end_time": "2022-06-26T21:10:04.253670",
     "exception": false,
     "start_time": "2022-06-26T21:10:03.960163",
     "status": "completed"
    },
    "tags": []
   },
   "outputs": [],
   "source": [
    "# Loading, preprocessing\n",
    "if CFG.train:\n",
    "    df = pd.read_csv(\"foursquare_location_matching/train.csv\")\n",
    "elif CFG.debug:\n",
    "    df = pd.read_csv(\"foursquare_location_matching/train.csv\", nrows=3000)\n",
    "else:\n",
    "    \n",
    "    df = pd.read_csv(\"../input/foursquare-location-matching/test.csv\")\n",
    "\n",
    "if len(df) < 20:\n",
    "    df = pd.read_csv('../input/foursquare-location-matching/train.csv', nrows=3000)\n",
    "    df = df.drop('point_of_interest', axis=1)"
   ]
  },
  {
   "cell_type": "markdown",
   "id": "ceba0b17",
   "metadata": {},
   "source": [
    "## Add main category"
   ]
  },
  {
   "cell_type": "code",
   "execution_count": 4,
   "id": "958eb121",
   "metadata": {},
   "outputs": [],
   "source": [
    "stop_words = ['/', '&', 'or', 'High', 'Miscellaneous', 'Fast', 'Other', 'Asian', 'Chinese', 'Event', \n",
    "              'Great', 'Noodle', 'Burger', 'Seafood', 'Breakfast', 'Ice', 'Diners', 'Cream', 'Indonesian', \n",
    "              'Thai', \"Women's\", 'Fried', 'Snack', 'Tea', 'Mexican', 'Nail', 'Sushi', 'Middle', 'Korean', \n",
    "              'Gift', 'Drink', 'Pet', 'Turkish', \"Men's\", 'Indian', 'Malay', 'Cocktail', 'Donut', 'Box', \n",
    "              'Condos)', 'Residential', 'Convenience', 'Gas', 'General', 'Bus', 'Pizza', 'Spaces', 'Mobile',\n",
    "              'Phone', 'Academic', 'Japanese', 'Business', 'Shoe', 'Italian', 'American', 'Home', 'Auto', \n",
    "              'Furniture', 'Cosmetics', 'Sandwich', 'Dessert', 'Car', 'Arts', 'Financial', 'Legal', 'BBQ',\n",
    "              'Hardware', 'Video', 'Music', 'Art', 'Student', 'Jewelry', 'Historic', 'Travel', 'Washes',\n",
    "              'Beer', 'Arcades', 'Bike', 'Lookouts', 'Scenic', 'Rental', 'Accessories', 'Repairs', 'Discount', \n",
    "              'Optical', 'Bodegas', 'Big', 'Assisted', 'Living', 'Athletics', 'Agencies', 'Locations', 'Trails', \n",
    "              'Bed', 'Breakfasts', 'Wine', 'Real', 'Elementary', 'Theme', 'Golf', 'Rest',  'Photography', \n",
    "              'Nightlife', 'Courses', 'Convention', 'Eastern', 'Concert', 'Conference', 'Startups', 'Tech', \n",
    "              'Meeting', 'French', 'Supplies', 'Events', 'Sake', 'Dog', 'Ramen', 'City', 'Juice', 'Science',\n",
    "              'Liquor', 'Lawyers', 'Insurance', 'Flower', 'Toy', 'Rentals', 'Paper', 'Flea', 'Bases', 'Baseball', \n",
    "              'Karaoke', 'Kids', 'Design', 'Farmers', 'Repair', 'Technology', 'Wards', 'Water', 'Supply', \n",
    "              'Filipino', 'Piers', 'Salad', 'Mattress', 'Print', 'Wings', 'Engineering', 'Non-Profits', \n",
    "              'Gastropubs', 'Bistros', 'Hot', 'Vietnamese', 'Hookah', 'Candy', 'Coffee', 'Electronics',\n",
    "              'Department', 'Clothing', 'Trucks', 'Chicken', 'Movie', 'Health', 'Soccer', 'Crafts', \n",
    "              'Game', 'Community', 'Food', 'College', 'Sporting', 'Beauty', 'Ferries', 'Soup', 'Veterinarians', \n",
    "              'Basketball', 'Light', 'Rail', 'Taco', 'Classrooms', 'Shopping', 'Developments', 'Train', 'Performing',\n",
    "              'Administrative', 'Lingerie', 'Dive', 'Storage', 'Office', 'Landscaping', 'Residence', 'Sports',\n",
    "              'Goods', 'Dealerships', 'Grocery', 'Workshops', 'History'\n",
    "             ]\n",
    "\n",
    "\n",
    "def get_categories(category):\n",
    "    if category == 'Auto':\n",
    "        return 'Automotive'\n",
    "    if category == 'Hotel' or category == 'Motels' or category == 'Hostels':\n",
    "        return 'Hotels'\n",
    "    if category == 'Courthouses':\n",
    "        return 'Court'\n",
    "    if category == 'College':\n",
    "        return 'Colleges'\n",
    "    if category == 'Cafés':\n",
    "        return 'Cafes'\n",
    "    if category == \"Doctor's\" or category == \"Dentist's\" or category == \"Doctors\":\n",
    "        return 'Medical'\n",
    "    if category == '(Apartments':\n",
    "        return 'Apartments'\n",
    "    return category\n",
    "\n",
    "cat_freq = pd.read_csv('foursquare_main_categories/cat_freq.csv', index_col='Unnamed: 0')\n",
    "cat_freq_dict = dict(zip(cat_freq['category'], cat_freq['frequence']))\n",
    "\n",
    "def get_main_category(category):\n",
    "    if category == category:\n",
    "        category_list = re.split(', | ', category)\n",
    "        most_freq_cat = np.nan\n",
    "        freq = 0\n",
    "        \n",
    "        for c in category_list:\n",
    "            if c in stop_words or c[-2:] == 'an':\n",
    "                continue\n",
    "            c = get_categories(c)\n",
    "            f = cat_freq_dict.get(c, 0)\n",
    "            if f > freq:\n",
    "                freq = f\n",
    "                most_freq_cat = c\n",
    "        \n",
    "        return most_freq_cat\n",
    "            \n",
    "    return np.nan\n",
    "\n",
    "df['main_category'] = df['categories'].apply(get_main_category)\n",
    "df[\"main_category\"] = df[\"main_category\"].fillna(\"None\")"
   ]
  },
  {
   "cell_type": "markdown",
   "id": "76e341df",
   "metadata": {},
   "source": [
    "## Add closest city"
   ]
  },
  {
   "cell_type": "code",
   "execution_count": 5,
   "id": "e3619f27",
   "metadata": {},
   "outputs": [
    {
     "data": {
      "application/vnd.jupyter.widget-view+json": {
       "model_id": "a9e6dde5aeb2454d88faf8f3f7a89df6",
       "version_major": 2,
       "version_minor": 0
      },
      "text/plain": [
       "  0%|          | 0/222 [00:00<?, ?it/s]"
      ]
     },
     "metadata": {},
     "output_type": "display_data"
    },
    {
     "data": {
      "text/plain": [
       "0"
      ]
     },
     "execution_count": 5,
     "metadata": {},
     "output_type": "execute_result"
    }
   ],
   "source": [
    "# states = pd.read_csv('states.csv', index_col='Unnamed: 0')\n",
    "cities = pd.read_csv('additional_data/cities.csv', encoding = \"ISO-8859-1\")\n",
    "cities = cities[['asciiname', 'latitude', 'longitude', 'country code']]\n",
    "cities.rename({'asciiname': 'city', 'country code': 'country'}, axis=1, inplace=True)\n",
    "\n",
    "geoname_dict = {'city': cities}\n",
    "\n",
    "def fill_the_missing_data(args):#, df_dists):\n",
    "    country, country_df = args\n",
    "    dfs = []\n",
    "    columns = list(geoname_dict.keys())\n",
    "    for c in tqdm(columns):\n",
    "\n",
    "        geoname_df = geoname_dict[c]\n",
    "        geoname_df = geoname_df[geoname_df['country'] == country]\n",
    "\n",
    "        if len(country_df) == 0 or len(geoname_df) == 0:\n",
    "            continue\n",
    "\n",
    "        knn = KNeighborsRegressor(n_neighbors=min(len(geoname_df), 2), metric='haversine')\n",
    "        knn.fit(geoname_df[['latitude','longitude']], geoname_df.index)\n",
    "        dists, nears = knn.kneighbors(country_df[['latitude','longitude']], return_distance=True)\n",
    "\n",
    "        if nears.shape[1] < 2:\n",
    "            continue\n",
    "\n",
    "        nears[:,1] = nears[:,0]\n",
    "        nears[:,0] = country_df.index\n",
    "\n",
    "        for n in nears:\n",
    "            t_idx = n[0]\n",
    "            c_idx = n[1]\n",
    "            country_df.loc[t_idx, f\"closest_{c}\"] = geoname_df.iloc[c_idx][c]\n",
    "        \n",
    "    return country_df\n",
    "    \n",
    "    \n",
    "df['country'] = df['country'].fillna('NA')\n",
    "num_countries = df['country'].nunique()\n",
    "    \n",
    "processes = multiprocessing.cpu_count()\n",
    "with multiprocessing.Pool(processes=processes) as pool:\n",
    "    dfs = pool.imap_unordered(fill_the_missing_data, df.groupby('country', sort=False))\n",
    "    dfs = tqdm(dfs, total=num_countries)\n",
    "    dfs = list(dfs)\n",
    "    \n",
    "df = pd.concat(dfs).reset_index(drop=True)\n",
    "df['closest_city'] = df['closest_city'].fillna(\"None\")\n",
    "\n",
    "del cities\n",
    "\n",
    "gc.collect()"
   ]
  },
  {
   "cell_type": "markdown",
   "id": "07b53ae7",
   "metadata": {},
   "source": [
    "## Create vectors from text columns with multilingual encoder"
   ]
  },
  {
   "cell_type": "code",
   "execution_count": 6,
   "id": "967b90ed",
   "metadata": {},
   "outputs": [],
   "source": [
    "# model = SentenceTransformer('sentence-transformers/paraphrase-multilingual-MiniLM-L12-v2')# paraphrase-MiniLM-L3-v2')# all-MiniLM-L6-v2')\n",
    "# vectors = model.encode(data['full_address'].values, batch_size=128, show_progress_bar=True)\n",
    "\n",
    "# with open('additional_data/text_vectors.npy', 'wb') as f:\n",
    "#     np.save(f, vectors)\n",
    "\n",
    "# with open('additional_data/text_vectors.npy', 'rb') as f:\n",
    "#     vectors = np.load(f)"
   ]
  },
  {
   "cell_type": "markdown",
   "id": "c53b25fb",
   "metadata": {},
   "source": [
    "## Preprocessing utils"
   ]
  },
  {
   "cell_type": "code",
   "execution_count": 7,
   "id": "12aa4112",
   "metadata": {
    "execution": {
     "iopub.execute_input": "2022-06-26T21:10:03.928050Z",
     "iopub.status.busy": "2022-06-26T21:10:03.927669Z",
     "iopub.status.idle": "2022-06-26T21:10:03.953784Z",
     "shell.execute_reply": "2022-06-26T21:10:03.953040Z"
    },
    "papermill": {
     "duration": 0.03397,
     "end_time": "2022-06-26T21:10:03.955569",
     "exception": false,
     "start_time": "2022-06-26T21:10:03.921599",
     "status": "completed"
    },
    "tags": []
   },
   "outputs": [],
   "source": [
    "def pickle_save(obj, filename):\n",
    "    pickle.dump(obj, open(filename, 'wb'))\n",
    "\n",
    "def pickle_load(filename):\n",
    "    return pickle.load(open(filename, 'rb'))\n",
    "\n",
    "def apply_notnull(df, column, target_column, function):\n",
    "    df.loc[df[column].notnull(), target_column] = \\\n",
    "        df.loc[df[column].notnull(), column].apply(function)\n",
    "    return df\n",
    "\n",
    "def pair_func(func, x1, x2):\n",
    "    if type(x1) == float and type(x2) == float:\n",
    "        return -1\n",
    "    elif type(x1) == float or type(x2) == float:\n",
    "        return -0.5\n",
    "    try:\n",
    "        return func(x1, x2)\n",
    "    except:\n",
    "        return -1\n",
    "    \n",
    "def clean_string(df, column, target_column):\n",
    "    # Unidecode\n",
    "    df = apply_notnull(df, column, target_column, lambda x: unidecode(x))\n",
    "\n",
    "    # Replace AND, AT\n",
    "    df = apply_notnull(df, target_column, target_column, lambda x: x.translate(\n",
    "        str.maketrans({\"@\": \"at\", \"&\": \"and\"})))\n",
    "\n",
    "    # Strip punctuation\n",
    "    df = apply_notnull(df, target_column, target_column, lambda x: x.translate(\n",
    "        str.maketrans('', '', string.punctuation)))\n",
    "\n",
    "    # To lowercase\n",
    "    df = apply_notnull(df, target_column, target_column, lambda x: x.lower())\n",
    "\n",
    "    # Remove leading spaces\n",
    "    df = apply_notnull(df, target_column, target_column, lambda x: x.strip())\n",
    "\n",
    "    return df\n",
    "\n",
    "\n",
    "def get_shingles(df, column, shingle_k):\n",
    "    for k in shingle_k:\n",
    "        sh = ShingleBased(k=k)\n",
    "        df = apply_notnull(df, column,\n",
    "                           f\"{column}_shingles_{k}\", lambda x: sh.get_profile(x))\n",
    "\n",
    "    return df\n",
    "\n",
    "_SPACE_PATTERN = re.compile(\"\\\\s+\")\n",
    "\n",
    "\n",
    "class ShingleBased:\n",
    "\n",
    "    def __init__(self, k=3):\n",
    "        self.k = k\n",
    "\n",
    "    def get_k(self):\n",
    "        return self.k\n",
    "\n",
    "    def get_profile(self, string):\n",
    "        shingles = dict()\n",
    "        no_space_str = _SPACE_PATTERN.sub(\" \", string)\n",
    "        for i in range(len(no_space_str) - self.k + 1):\n",
    "            shingle = no_space_str[i:i + self.k]\n",
    "            old = shingles.get(shingle)\n",
    "            if old:\n",
    "                shingles[str(shingle)] = int(old + 1)\n",
    "            else:\n",
    "                shingles[str(shingle)] = 1\n",
    "        return shingles\n",
    "\n",
    "def preprocessing(df):\n",
    "    df = df.set_index(\"id\", drop=False)\n",
    "\n",
    "    # Name cleaning\n",
    "    df = clean_string(df, \"name\", \"name_cleaned\")\n",
    "\n",
    "    # Name shingles\n",
    "    df = get_shingles(df, \"name_cleaned\", (2, 3))\n",
    "\n",
    "    # Closest city shingles\n",
    "    df = get_shingles(df, \"closest_city\", (3,))\n",
    "\n",
    "    # Full address\n",
    "    df[\"full_address\"] = df[\"address\"].fillna(\"\") +\\\n",
    "        \" \" + df[\"city\"].fillna(\"\") +\\\n",
    "        \" \" + df[\"state\"].fillna(\"\")\n",
    "\n",
    "    df.loc[df[\"full_address\"] == \"  \", \"full_address\"] = np.NaN\n",
    "    df = clean_string(df, \"full_address\", \"full_address_cleaned\")\n",
    "    df = get_shingles(df, \"full_address_cleaned\", (3,))\n",
    "\n",
    "    # Numbers in name/address\n",
    "    df = apply_notnull(df, \"name_cleaned\", \"numbers_in_name\", get_numbers_from_name)\n",
    "    df.loc[df[\"numbers_in_name\"] == \"\", \"numbers_in_name\"] = np.NaN\n",
    "\n",
    "    df = apply_notnull(df, \"full_address_cleaned\", \"numbers_in_full_address\", get_numbers_from_name)\n",
    "    df.loc[df[\"numbers_in_full_address\"] == \"\", \"numbers_in_full_address\"] = np.NaN\n",
    "\n",
    "    df = get_shingles(df, \"numbers_in_name\", (1, 2))\n",
    "    df = get_shingles(df, \"numbers_in_full_address\", (1, 2))\n",
    "    \n",
    "    # Catogories shingles\n",
    "    df = get_shingles(df, \"categories\", (3,))\n",
    "\n",
    "    # Categories to frozenset\n",
    "    df[\"categories\"] = df[\"categories\"].fillna(\"None\")\n",
    "    df[\"categories\"] = df[\"categories\"].apply(lambda x: x.split(\", \"))\n",
    "    df[\"categories\"] = df[\"categories\"].apply(frozenset)\n",
    "    \n",
    "    # Main catogory shingles\n",
    "    df = get_shingles(df, \"main_category\", (3,))\n",
    "\n",
    "    # Encode categorical columns\n",
    "    if CFG.encode:\n",
    "        # No encoders provided, create and save\n",
    "        encoder_params = {\"dtype\": np.int32,\n",
    "                          \"handle_unknown\": \"use_encoded_value\",\n",
    "                          \"unknown_value\": -1}\n",
    "\n",
    "        ordinal_encoder = OrdinalEncoder(**encoder_params)\n",
    "\n",
    "        ordinal_encoder = ordinal_encoder.fit(df[[\"country\", \"categories\", \n",
    "                                                  \"main_category\", \"closest_city\"]])\n",
    "        pickle_save(ordinal_encoder, \"additional_data/ordinal_encoder.pkl\")\n",
    "        encoder = ordinal_encoder\n",
    "    else:\n",
    "        encoder = pickle_load(\"additional_data/ordinal_encoder.pkl\")\n",
    "\n",
    "    df[[\"country_enc\", \"categories_enc\", \n",
    "        \"main_category_enc\", \"closest_city_enc\"]] = encoder.transform(df[[\"country\", \"categories\",  \n",
    "                                                                          \"main_category\", \"closest_city\"]])\n",
    "    \n",
    "    return df\n",
    "\n",
    "def pickle_load(filename):\n",
    "    return pickle.load(open(filename, 'rb'))\n",
    "\n",
    "def get_numbers_from_name(name):\n",
    "    return \"\".join(re.findall(\"[-+]?[.]?[\\d]+(?:,\\d\\d\\d)*[\\.]?\\d*(?:[eE][-+]?\\d+)?\", name))"
   ]
  },
  {
   "cell_type": "markdown",
   "id": "171c8971",
   "metadata": {},
   "source": [
    "## Preprocess data"
   ]
  },
  {
   "cell_type": "code",
   "execution_count": 8,
   "id": "a6a300f7",
   "metadata": {
    "scrolled": false
   },
   "outputs": [],
   "source": [
    "df = preprocessing(df)\n",
    "df.index.rename(\"index\", inplace = True)"
   ]
  },
  {
   "cell_type": "markdown",
   "id": "c40c45cd",
   "metadata": {},
   "source": [
    "## TF-IDF vectorization"
   ]
  },
  {
   "cell_type": "code",
   "execution_count": 9,
   "id": "9db6f06c",
   "metadata": {},
   "outputs": [],
   "source": [
    "def tf_idf_vectorize(df):\n",
    "    # set dict for corresponding ids and index\n",
    "    id2index_d = dict(zip(df['id'].values, df.index))\n",
    "\n",
    "    # make TF-IDF features\n",
    "    tfidf_d = {}\n",
    "    for col in [\"categories\", \"name_cleaned\", \"full_address_cleaned\"]:\n",
    "        if col == \"categories\":\n",
    "            tfidf = TfidfVectorizer(use_idf=False)\n",
    "        else:\n",
    "            tfidf = TfidfVectorizer(ngram_range=(3, 3), analyzer=\"char_wb\", use_idf=False, stop_words=['unknown'])\n",
    "        tv_fit = tfidf.fit_transform(df[col].astype(str).values)\n",
    "        tfidf_d[col] = tv_fit\n",
    "        \n",
    "    return id2index_d, tfidf_d, tv_fit\n",
    "\n",
    "df = df.reset_index()\n",
    "\n",
    "id2index_d, tfidf_d, tv_fit = tf_idf_vectorize(df)\n",
    "\n",
    "df = df.set_index('index')"
   ]
  },
  {
   "cell_type": "markdown",
   "id": "aa3942ee",
   "metadata": {},
   "source": [
    "## Split data on train and test"
   ]
  },
  {
   "cell_type": "code",
   "execution_count": 10,
   "id": "bc0e1029",
   "metadata": {},
   "outputs": [],
   "source": [
    "def group_split(df):\n",
    "    gkf = GroupKFold(n_splits=2)\n",
    "    splits = list(gkf.split(\n",
    "        df, groups=df[\"point_of_interest\"]))\n",
    "\n",
    "    return df.iloc[splits[0][1]], df.iloc[splits[1][1]]\n",
    "\n",
    "df['country'] = df['country'].fillna('NA')\n",
    "df['name_cleaned'] = df['name_cleaned'].fillna('')\n",
    "\n",
    "if CFG.train or CFG.debug:\n",
    "    fold0_df, fold1_df = group_split(df)"
   ]
  },
  {
   "cell_type": "markdown",
   "id": "504e2ec2",
   "metadata": {},
   "source": [
    "## Candidate search utils"
   ]
  },
  {
   "cell_type": "code",
   "execution_count": 11,
   "id": "95123710",
   "metadata": {
    "execution": {
     "iopub.execute_input": "2022-06-26T21:10:04.264732Z",
     "iopub.status.busy": "2022-06-26T21:10:04.264150Z",
     "iopub.status.idle": "2022-06-26T21:10:04.297750Z",
     "shell.execute_reply": "2022-06-26T21:10:04.296802Z"
    },
    "papermill": {
     "duration": 0.041404,
     "end_time": "2022-06-26T21:10:04.299697",
     "exception": false,
     "start_time": "2022-06-26T21:10:04.258293",
     "status": "completed"
    },
    "tags": []
   },
   "outputs": [],
   "source": [
    "def overlap(profile0, profile1):\n",
    "    union = set()\n",
    "    for k in profile0.keys():\n",
    "        union.add(k)\n",
    "    for k in profile1.keys():\n",
    "        union.add(k)\n",
    "    inter = int(len(profile0.keys()) + len(profile1.keys()) - len(union))\n",
    "    return inter / min(len(profile0), len(profile1))\n",
    "\n",
    "def country_closest_k(train_df, country, candidate_k):\n",
    "    country_df = train_df[train_df[\"country\"] == country]\n",
    "\n",
    "    # Coordinates\n",
    "    country_np = np.deg2rad(country_df[[\"latitude\", \"longitude\"]].to_numpy())\n",
    "\n",
    "    # To 3d\n",
    "    country_np = np.vstack([(np.cos(country_np[:, 0]) * np.cos(country_np[:, 1])),\n",
    "                            (np.cos(country_np[:, 0]) *\n",
    "                             np.sin(country_np[:, 1])),\n",
    "                            (np.sin(country_np[:, 0]))]).T\n",
    "\n",
    "    neigh = NearestNeighbors(n_jobs=-1).fit(country_np)\n",
    "    try:\n",
    "        distances, neighbors_indices = neigh.kneighbors(\n",
    "            country_np, n_neighbors=candidate_k, return_distance=True)\n",
    "    except:\n",
    "        # Handle Expected n_neighbors <= n_samples error\n",
    "        # Add all but exclude itself\n",
    "        neighbors_indices = [\n",
    "            [i for i in range(len(country_df)) if i != j] for j in range(len(country_df))]\n",
    "        neighbors_indices = np.array(neighbors_indices, dtype=int)\n",
    "\n",
    "    # Convert indices to id\n",
    "    ids = country_df[\"id\"].to_numpy()\n",
    "    neighbors_ids = pd.Series(list(neighbors_indices), index=country_df.index).apply(\n",
    "        lambda candidate_indices: ids[candidate_indices])\n",
    "\n",
    "    return neighbors_ids\n",
    "\n",
    "\n",
    "def candidate_selection(train_df, candidate_k):\n",
    "    train_df[\"k_candidates\"] = pd.Series(dtype='object')\n",
    "    uq_countries = train_df[\"country\"].value_counts().index\n",
    "\n",
    "    for country in tqdm(uq_countries):\n",
    "        train_df.loc[train_df[\"country\"] == country, \"k_candidates\"] = \\\n",
    "            country_closest_k(train_df, country, candidate_k)\n",
    "\n",
    "    # Empty candidates\n",
    "    for row in train_df.loc[train_df[\"k_candidates\"].isnull(), \"k_candidates\"].index:\n",
    "        train_df.at[row, \"k_candidates\"] = []\n",
    "\n",
    "    return train_df\n",
    "\n",
    "\n",
    "def forming_pairs_filtering(train_df, th):\n",
    "    pairs = []\n",
    "    dict_ = train_df[\"name_cleaned_shingles_3\"].to_dict()\n",
    "\n",
    "    for p1_idx in tqdm(train_df.index):\n",
    "        for p2_idx in train_df.loc[p1_idx, \"k_candidates\"]:\n",
    "            if p1_idx == p2_idx:  # Skip\n",
    "                continue\n",
    "\n",
    "            try:\n",
    "                sim = overlap(dict_[p1_idx], dict_[p2_idx])\n",
    "                if sim >= th:\n",
    "                    pairs.append([p1_idx, p2_idx])\n",
    "            except:\n",
    "                pass\n",
    "\n",
    "    return pd.DataFrame(pairs, columns=[\"p1\", \"p2\"])\n",
    "\n",
    "\n",
    "def recall_knn(df, n_neighbors, label):\n",
    "    print(80*'=')\n",
    "    print('Start KNN grouped by country')\n",
    "    train_df_country = []\n",
    "    for country, country_df in tqdm(df.groupby('country')):\n",
    "        country_df = country_df.reset_index(drop = True)\n",
    "\n",
    "        # distance KNN\n",
    "        neighbors = min(len(country_df), n_neighbors)\n",
    "        knn = KNeighborsRegressor(n_neighbors = neighbors,\n",
    "                                  metric = 'haversine',\n",
    "                                  n_jobs = -1)\n",
    "        knn.fit(country_df[['latitude','longitude']], country_df.index)\n",
    "        dists, nears = knn.kneighbors(country_df[['latitude', 'longitude']], \n",
    "                                      return_distance = True)\n",
    "\n",
    "        # name KNN\n",
    "        tfidf = TfidfVectorizer(ngram_range=(3, 3), analyzer=\"char_wb\", use_idf=False, stop_words=['unknown'])\n",
    "        x_name = country_df['name_cleaned'].values # CHANGED: name_cleaned\n",
    "        x_name = tfidf.fit_transform(x_name)\n",
    "        \n",
    "        knn_name = NearestNeighbors(n_neighbors = neighbors,\n",
    "                                    metric = 'cosine',\n",
    "                                    n_jobs = -1)\n",
    "        knn_name.fit(x_name)\n",
    "        dists_name, nears_name = knn_name.kneighbors(x_name)\n",
    "        \n",
    "        del tfidf, knn, knn_name, x_name\n",
    "        gc.collect()\n",
    "        \n",
    "        # join distance and name KNNs\n",
    "        for k in range(neighbors):            \n",
    "            cur_df = country_df[['id']]\n",
    "            cur_df['match_id'] = country_df['id'].values[nears[:, k]]\n",
    "            cur_df['kdist_country'] = dists[:, k]\n",
    "            cur_df['kneighbors_country'] = k\n",
    "            \n",
    "            cur_df_name = country_df[['id']]\n",
    "            cur_df_name['match_id'] = country_df['id'].values[nears_name[:, k]]\n",
    "            cur_df_name['kdist_name_country'] = dists_name[:, k]\n",
    "            cur_df_name['kneighbors_name_country'] = k\n",
    "            cur_df = cur_df.merge(cur_df_name, on = ['id', 'match_id'], how = 'outer')\n",
    "            \n",
    "            train_df_country.append(cur_df)\n",
    "    \n",
    "    train_df_country = pd.concat(train_df_country)\n",
    "    train_df_country = train_df_country.drop_duplicates(subset=['id', 'match_id'])\n",
    "    \n",
    "    print('Start KNN for the whole dataset')\n",
    "    train_df = []\n",
    "    knn = NearestNeighbors(n_neighbors = n_neighbors,\n",
    "                           n_jobs = -1)\n",
    "    knn.fit(df[['latitude','longitude']], df.index)\n",
    "    dists, nears = knn.kneighbors(df[['latitude','longitude']])\n",
    "    \n",
    "    for k in range(n_neighbors):            \n",
    "        cur_df = df[['id']]\n",
    "        cur_df['match_id'] = df['id'].values[nears[:, k]]\n",
    "        cur_df['kdist'] = dists[:, k]\n",
    "        cur_df['kneighbors'] = k\n",
    "        train_df.append(cur_df)\n",
    "    \n",
    "    train_df = pd.concat(train_df)\n",
    "    train_df = train_df.merge(train_df_country, on = ['id', 'match_id'], how = 'outer')\n",
    "    \n",
    "    del train_df_country\n",
    "    gc.collect()\n",
    "    \n",
    "    return train_df, label"
   ]
  },
  {
   "cell_type": "markdown",
   "id": "32f87781",
   "metadata": {},
   "source": [
    "## Candidate search"
   ]
  },
  {
   "cell_type": "code",
   "execution_count": 12,
   "id": "eff8e105",
   "metadata": {
    "execution": {
     "iopub.execute_input": "2022-06-26T21:10:04.310529Z",
     "iopub.status.busy": "2022-06-26T21:10:04.309910Z",
     "iopub.status.idle": "2022-06-26T21:10:15.837000Z",
     "shell.execute_reply": "2022-06-26T21:10:15.835850Z"
    },
    "papermill": {
     "duration": 11.534607,
     "end_time": "2022-06-26T21:10:15.838876",
     "exception": false,
     "start_time": "2022-06-26T21:10:04.304269",
     "status": "completed"
    },
    "scrolled": true,
    "tags": []
   },
   "outputs": [
    {
     "name": "stdout",
     "output_type": "stream",
     "text": [
      "================================================================================\n",
      "Start KNN grouped by country\n"
     ]
    },
    {
     "data": {
      "application/vnd.jupyter.widget-view+json": {
       "model_id": "a2a66bc8a34c477485f6f04b10de4a0d",
       "version_major": 2,
       "version_minor": 0
      },
      "text/plain": [
       "  0%|          | 0/210 [00:00<?, ?it/s]"
      ]
     },
     "metadata": {},
     "output_type": "display_data"
    },
    {
     "name": "stdout",
     "output_type": "stream",
     "text": [
      "Start KNN for the whole dataset\n",
      "================================================================================\n",
      "Start KNN grouped by country\n"
     ]
    },
    {
     "data": {
      "application/vnd.jupyter.widget-view+json": {
       "model_id": "7b90557bce5b4763923aee316af241a6",
       "version_major": 2,
       "version_minor": 0
      },
      "text/plain": [
       "  0%|          | 0/211 [00:00<?, ?it/s]"
      ]
     },
     "metadata": {},
     "output_type": "display_data"
    },
    {
     "name": "stdout",
     "output_type": "stream",
     "text": [
      "Start KNN for the whole dataset\n"
     ]
    }
   ],
   "source": [
    "# Candidate selection, pairs forming\n",
    "#df = candidate_selection(df, 320)\n",
    "#pairs = forming_pairs_filtering(df, 0.2)\n",
    "\n",
    "if CFG.train or CFG.debug:\n",
    "    fold0_df_pairs = recall_knn(fold0_df, 20, 'train')[0][[\"id\", \"match_id\"]]\n",
    "    fold0_df_pairs.rename(columns={\"id\": \"p1\", \"match_id\": \"p2\"}, inplace=True)\n",
    "\n",
    "    fold1_df_pairs = recall_knn(fold1_df, 20, 'train')[0][[\"id\", \"match_id\"]]\n",
    "    fold1_df_pairs.rename(columns={\"id\": \"p1\", \"match_id\": \"p2\"}, inplace=True)\n",
    "else:\n",
    "    pairs = recall_knn(df, 20, 'train')[0][[\"id\", \"match_id\"]]\n",
    "    pairs.rename(columns={\"id\": \"p1\", \"match_id\": \"p2\"}, inplace=True)"
   ]
  },
  {
   "cell_type": "code",
   "execution_count": 13,
   "id": "eab474a0",
   "metadata": {},
   "outputs": [
    {
     "data": {
      "text/html": [
       "<div>\n",
       "<style scoped>\n",
       "    .dataframe tbody tr th:only-of-type {\n",
       "        vertical-align: middle;\n",
       "    }\n",
       "\n",
       "    .dataframe tbody tr th {\n",
       "        vertical-align: top;\n",
       "    }\n",
       "\n",
       "    .dataframe thead th {\n",
       "        text-align: right;\n",
       "    }\n",
       "</style>\n",
       "<table border=\"1\" class=\"dataframe\">\n",
       "  <thead>\n",
       "    <tr style=\"text-align: right;\">\n",
       "      <th></th>\n",
       "      <th>p1</th>\n",
       "      <th>p2</th>\n",
       "    </tr>\n",
       "  </thead>\n",
       "  <tbody>\n",
       "  </tbody>\n",
       "</table>\n",
       "</div>"
      ],
      "text/plain": [
       "Empty DataFrame\n",
       "Columns: [p1, p2]\n",
       "Index: []"
      ]
     },
     "execution_count": 13,
     "metadata": {},
     "output_type": "execute_result"
    }
   ],
   "source": [
    "fold0_df_pairs[fold0_df_pairs[['p1', 'p2']].duplicated()]"
   ]
  },
  {
   "cell_type": "code",
   "execution_count": 14,
   "id": "da6efd23",
   "metadata": {},
   "outputs": [
    {
     "data": {
      "text/html": [
       "<div>\n",
       "<style scoped>\n",
       "    .dataframe tbody tr th:only-of-type {\n",
       "        vertical-align: middle;\n",
       "    }\n",
       "\n",
       "    .dataframe tbody tr th {\n",
       "        vertical-align: top;\n",
       "    }\n",
       "\n",
       "    .dataframe thead th {\n",
       "        text-align: right;\n",
       "    }\n",
       "</style>\n",
       "<table border=\"1\" class=\"dataframe\">\n",
       "  <thead>\n",
       "    <tr style=\"text-align: right;\">\n",
       "      <th></th>\n",
       "      <th>p1</th>\n",
       "      <th>p2</th>\n",
       "    </tr>\n",
       "  </thead>\n",
       "  <tbody>\n",
       "  </tbody>\n",
       "</table>\n",
       "</div>"
      ],
      "text/plain": [
       "Empty DataFrame\n",
       "Columns: [p1, p2]\n",
       "Index: []"
      ]
     },
     "execution_count": 14,
     "metadata": {},
     "output_type": "execute_result"
    }
   ],
   "source": [
    "fold1_df_pairs[fold1_df_pairs[['p1', 'p2']].duplicated()]"
   ]
  },
  {
   "cell_type": "markdown",
   "id": "8fd9a5f3",
   "metadata": {},
   "source": [
    "## Create train target feature"
   ]
  },
  {
   "cell_type": "code",
   "execution_count": 15,
   "id": "4bd52cbb",
   "metadata": {},
   "outputs": [
    {
     "name": "stdout",
     "output_type": "stream",
     "text": [
      "Num of unique train id: 569406\n",
      "Num of train data: 24175388\n",
      "Pos rate: 0.04927110166753063\n",
      "\n",
      "Num of unique valid id: 569406\n",
      "Num of valid data: 24182861\n",
      "Pos rate: 0.049252071539426207\n",
      "CPU times: user 1min 34s, sys: 5.47 s, total: 1min 40s\n",
      "Wall time: 1min 40s\n"
     ]
    }
   ],
   "source": [
    "%%time\n",
    "\n",
    "if CFG.train or CFG.debug:\n",
    "    df = df.set_index('id')\n",
    "\n",
    "    ids = fold0_df_pairs['p1'].tolist()\n",
    "    match_ids = fold0_df_pairs['p2'].tolist()\n",
    "    poi = df.loc[ids]['point_of_interest'].values\n",
    "    match_poi = df.loc[match_ids]['point_of_interest'].values\n",
    "    fold0_df_pairs['match'] = np.array(poi == match_poi, dtype = np.int8)\n",
    "\n",
    "    ids = fold1_df_pairs['p1'].tolist()\n",
    "    match_ids = fold1_df_pairs['p2'].tolist()\n",
    "    poi = df.loc[ids]['point_of_interest'].values \n",
    "    match_poi = df.loc[match_ids]['point_of_interest'].values\n",
    "    fold1_df_pairs['match'] = np.array(poi == match_poi, dtype = np.int8)\n",
    "\n",
    "    del poi, match_poi, ids, match_ids\n",
    "    gc.collect()\n",
    "\n",
    "    print('Num of unique train id: %s' % fold0_df_pairs['p1'].nunique())\n",
    "    print('Num of train data: %s' % len(fold0_df_pairs))\n",
    "    print('Pos rate: %s' % fold0_df_pairs['match'].mean())\n",
    "    print('')\n",
    "    print('Num of unique valid id: %s' % fold1_df_pairs['p1'].nunique())\n",
    "    print('Num of valid data: %s' % len(fold1_df_pairs))\n",
    "    print('Pos rate: %s' % fold1_df_pairs['match'].mean())\n",
    "\n",
    "    df = df.reset_index('id')"
   ]
  },
  {
   "cell_type": "markdown",
   "id": "d38ce074",
   "metadata": {},
   "source": [
    "## Group generation"
   ]
  },
  {
   "cell_type": "code",
   "execution_count": 16,
   "id": "03e7a61c",
   "metadata": {
    "scrolled": false
   },
   "outputs": [
    {
     "data": {
      "application/vnd.jupyter.widget-view+json": {
       "model_id": "48b31ff4a4cc44fca40c8b9305f26ba8",
       "version_major": 2,
       "version_minor": 0
      },
      "text/plain": [
       "  0%|          | 0/569406 [00:00<?, ?it/s]"
      ]
     },
     "metadata": {},
     "output_type": "display_data"
    },
    {
     "data": {
      "application/vnd.jupyter.widget-view+json": {
       "model_id": "edfbcbb3eaea4aa5b309eeed798fa0d6",
       "version_major": 2,
       "version_minor": 0
      },
      "text/plain": [
       "  0%|          | 0/18111 [00:00<?, ?it/s]"
      ]
     },
     "metadata": {},
     "output_type": "display_data"
    },
    {
     "data": {
      "application/vnd.jupyter.widget-view+json": {
       "model_id": "14f6426318414e909a8bf58ef13cc79c",
       "version_major": 2,
       "version_minor": 0
      },
      "text/plain": [
       "  0%|          | 0/4364 [00:00<?, ?it/s]"
      ]
     },
     "metadata": {},
     "output_type": "display_data"
    },
    {
     "data": {
      "application/vnd.jupyter.widget-view+json": {
       "model_id": "56de5eb476cf4690bc5307d91e85f2bd",
       "version_major": 2,
       "version_minor": 0
      },
      "text/plain": [
       "  0%|          | 0/20 [00:00<?, ?it/s]"
      ]
     },
     "metadata": {},
     "output_type": "display_data"
    },
    {
     "data": {
      "application/vnd.jupyter.widget-view+json": {
       "model_id": "f7de6b13ee104a84a174eed04109b99d",
       "version_major": 2,
       "version_minor": 0
      },
      "text/plain": [
       "  0%|          | 0/569406 [00:00<?, ?it/s]"
      ]
     },
     "metadata": {},
     "output_type": "display_data"
    },
    {
     "data": {
      "application/vnd.jupyter.widget-view+json": {
       "model_id": "8a2e61a2cd2a4e48bda29197ef668f01",
       "version_major": 2,
       "version_minor": 0
      },
      "text/plain": [
       "  0%|          | 0/18193 [00:00<?, ?it/s]"
      ]
     },
     "metadata": {},
     "output_type": "display_data"
    },
    {
     "data": {
      "application/vnd.jupyter.widget-view+json": {
       "model_id": "fa27b15f88c64a3b88b7c84ae0dbc3f9",
       "version_major": 2,
       "version_minor": 0
      },
      "text/plain": [
       "  0%|          | 0/4369 [00:00<?, ?it/s]"
      ]
     },
     "metadata": {},
     "output_type": "display_data"
    },
    {
     "data": {
      "application/vnd.jupyter.widget-view+json": {
       "model_id": "4030a1b0797b4186a4d3a849080b7c05",
       "version_major": 2,
       "version_minor": 0
      },
      "text/plain": [
       "  0%|          | 0/20 [00:00<?, ?it/s]"
      ]
     },
     "metadata": {},
     "output_type": "display_data"
    }
   ],
   "source": [
    "def get_poi2id(input_df: pd.DataFrame) -> dict:\n",
    "    return input_df.groupby('p2')['p1'].apply(set).to_dict()\n",
    "\n",
    "def create_poi_groups(poi2id):\n",
    "    # merge POIs by groups\n",
    "    for p1, values in tqdm(poi2id.items()):\n",
    "        for p2 in values:\n",
    "            if p2 != p1:\n",
    "                poi2id[p1] = poi2id[p1].union(poi2id[p2])\n",
    "                poi2id[p2] = set()\n",
    "    # remove empty groups\n",
    "    poi2id = {k: v for k, v in poi2id.items() if v}\n",
    "    return poi2id\n",
    "\n",
    "def merge_poi_groups(poi2id, poi_length, divider=20):\n",
    "    l = len(poi2id)\n",
    "    keys = list(poi2id.keys())\n",
    "    for i in tqdm(range(l)):\n",
    "        j = i + 1\n",
    "        while 0 < len(poi2id[keys[i]]) < int(poi_length/divider) and j < l:\n",
    "            poi2id[keys[i]] = poi2id[keys[i]].union(poi2id[keys[j]])\n",
    "            poi2id[keys[j]] = set()\n",
    "            j += 1\n",
    "    # remove empty groups\n",
    "    poi2id = {k: v for k, v in poi2id.items() if v}\n",
    "    return poi2id\n",
    "\n",
    "def clean_poi(poi2id):\n",
    "    # clean POIs\n",
    "    values_to_remove = set() \n",
    "    for p1, values in tqdm(poi2id.items()):\n",
    "        values = values.difference(values_to_remove)\n",
    "        values_to_remove = values_to_remove.union(values)\n",
    "        poi2id[p1] = values\n",
    "    # remove empty groups again\n",
    "    poi2id = {k: v for k, v in poi2id.items() if v}\n",
    "    return poi2id\n",
    "\n",
    "def group_generation(pairs, n_splits=10):\n",
    "    # get POI-ID dictionary\n",
    "    poi2id = get_poi2id(pairs)\n",
    "    poi_length = len(poi2id)\n",
    "\n",
    "    # merge poi by groups\n",
    "    poi2id = create_poi_groups(poi2id)\n",
    "\n",
    "    # clean poi\n",
    "    poi2id = clean_poi(poi2id)\n",
    "\n",
    "    # decrease number of group by divider number to increase performance of further processes\n",
    "    poi2id = merge_poi_groups(poi2id, poi_length, 20)\n",
    "\n",
    "    # set groups for pairs\n",
    "    pairs = pairs.set_index('p1')\n",
    "    for idx, values in tqdm(enumerate(poi2id.values()), total=len(poi2id)):\n",
    "        pairs.loc[list(values), 'set'] = idx\n",
    "    pairs = pairs.reset_index()\n",
    "\n",
    "    kf = GroupKFold(n_splits=n_splits)\n",
    "    for i, (trn_idx, val_idx) in enumerate(kf.split(pairs, \n",
    "                                                    pairs['set'], \n",
    "                                                    pairs['set'])):\n",
    "        pairs.loc[val_idx, 'group'] = i\n",
    "\n",
    "    pairs['group'] = pairs['group'].astype('int8')\n",
    "    pairs = pairs.drop('set', axis=1)\n",
    "    \n",
    "    return pairs\n",
    "\n",
    "if CFG.train or CFG.debug:\n",
    "    fold0_df_pairs = group_generation(fold0_df_pairs, CFG.n_splits)\n",
    "    fold1_df_pairs = group_generation(fold1_df_pairs, CFG.n_splits)\n",
    "else:\n",
    "    pairs = group_generation(pairs, CFG.n_splits)"
   ]
  },
  {
   "cell_type": "markdown",
   "id": "671ffa6d",
   "metadata": {},
   "source": [
    "## Feature Engeneering utils"
   ]
  },
  {
   "cell_type": "code",
   "execution_count": 17,
   "id": "ff56a6d5",
   "metadata": {
    "execution": {
     "iopub.execute_input": "2022-06-26T21:10:15.856365Z",
     "iopub.status.busy": "2022-06-26T21:10:15.855954Z",
     "iopub.status.idle": "2022-06-26T21:10:15.918905Z",
     "shell.execute_reply": "2022-06-26T21:10:15.918087Z"
    },
    "papermill": {
     "duration": 0.074288,
     "end_time": "2022-06-26T21:10:15.920802",
     "exception": false,
     "start_time": "2022-06-26T21:10:15.846514",
     "status": "completed"
    },
    "tags": []
   },
   "outputs": [],
   "source": [
    "def feature_engineering(train_df, pairs):\n",
    "     # Candidates count\n",
    "    if \"count1\" not in pairs.columns:\n",
    "        pairs[\"count1\"] = pairs.groupby(\"p1\")[\"p1\"].transform(\"count\")\n",
    "        pairs[\"count1\"] = pairs[\"count1\"].astype(np.int32)\n",
    "\n",
    "    if \"count2\" not in pairs.columns:\n",
    "        pairs[\"count2\"] = pairs.groupby(\"p2\")[\"p2\"].transform(\"count\")\n",
    "        pairs[\"count2\"] = pairs[\"count2\"].astype(np.int32)\n",
    "\n",
    "    # Distance metrics\n",
    "    lat1 = train_df.loc[pairs[\"p1\"], \"latitude\"].values\n",
    "    lon1 = train_df.loc[pairs[\"p1\"], \"longitude\"].values\n",
    "    lat2 = train_df.loc[pairs[\"p2\"], \"latitude\"].values\n",
    "    lon2 = train_df.loc[pairs[\"p2\"], \"longitude\"].values\n",
    "    diff_lat = np.abs(lat2-lat1)\n",
    "    diff_lon = np.abs(lon2-lon1)\n",
    "    \n",
    "    # Haversine\n",
    "    if \"haversine\" not in pairs.columns:\n",
    "        pairs[\"haversine\"] = haversine_vec(lat1, lon1, lat2, lon2)\n",
    "        pairs[\"haversine\"] = pairs[\"haversine\"].astype(np.float32)\n",
    "    # Manhattan\n",
    "    if \"manhattan\" not in pairs.columns:\n",
    "        pairs['manhattan'] = diff_lat + diff_lon\n",
    "        pairs[\"manhattan\"] = pairs[\"manhattan\"].astype(np.float32)\n",
    "    # Euclidian\n",
    "    if \"euclidian\" not in pairs.columns:   \n",
    "        pairs['euclidian'] = np.sqrt(np.square(diff_lat) + np.square(diff_lon))\n",
    "        pairs[\"euclidian\"] = pairs[\"euclidian\"].astype(np.float32)\n",
    "    \n",
    "    # Name similarity\n",
    "    for name in [\"jaccard\", \"overlap\", \"cosine\"]:\n",
    "        for k in tqdm([2, 3]):\n",
    "            feature_name = f\"name_cleaned_{name}_{k}\"\n",
    "            if feature_name not in pairs.columns:\n",
    "                similarity = get_shingle_similarity(name)\n",
    "                pairs[feature_name] = similarity(train_df.loc[pairs[\"p1\"], f\"name_cleaned_shingles_{k}\"],\n",
    "                                                 train_df.loc[pairs[\"p2\"], f\"name_cleaned_shingles_{k}\"])\n",
    "                pairs[feature_name] = pairs[feature_name].astype(np.float16)\n",
    "\n",
    "    # Full address similarity\n",
    "    for name in [\"jaccard\", \"overlap\"]:\n",
    "        for k in tqdm([3]):\n",
    "            feature_name = f\"full_address_{name}_{k}\"\n",
    "            if feature_name not in pairs.columns:\n",
    "                similarity = get_shingle_similarity(name)\n",
    "                pairs[feature_name] = similarity(train_df.loc[pairs[\"p1\"], f\"full_address_cleaned_shingles_{k}\"],\n",
    "                                                 train_df.loc[pairs[\"p2\"], f\"full_address_cleaned_shingles_{k}\"])\n",
    "                pairs[feature_name] = pairs[feature_name].astype(np.float16)\n",
    "\n",
    "    # Name-address similarity\n",
    "    for name in [\"overlap\"]:\n",
    "        for k in tqdm([3]):\n",
    "            feature_name = f\"name_address_{name}_{k}\"\n",
    "            if feature_name not in pairs.columns:\n",
    "                similarity = get_shingle_similarity(name)\n",
    "                pairs[feature_name] = similarity(train_df.loc[pairs[\"p1\"], f\"name_cleaned_shingles_{k}\"],\n",
    "                                                 train_df.loc[pairs[\"p2\"], f\"full_address_cleaned_shingles_{k}\"])\n",
    "\n",
    "                pairs[feature_name] += similarity(train_df.loc[pairs[\"p1\"], f\"full_address_cleaned_shingles_{k}\"],\n",
    "                                                  train_df.loc[pairs[\"p2\"], f\"name_cleaned_shingles_{k}\"])\n",
    "                pairs[feature_name] = pairs[feature_name] / 2\n",
    "\n",
    "                pairs[feature_name] = pairs[feature_name].astype(np.float16)\n",
    "\n",
    "    # Numbers in name similarity\n",
    "    for name in [\"overlap\"]:\n",
    "        feature_name = f\"numbers_in_name_{name}\"\n",
    "        if feature_name not in pairs.columns:\n",
    "            similarity = get_shingle_similarity(name)\n",
    "            pairs[feature_name] = similarity(train_df.loc[pairs[\"p1\"], f\"numbers_in_name_shingles_1\"], train_df.loc[pairs[\"p2\"], f\"numbers_in_name_shingles_1\"])\n",
    "            pairs[feature_name] += similarity(train_df.loc[pairs[\"p1\"], f\"numbers_in_name_shingles_2\"], train_df.loc[pairs[\"p2\"], f\"numbers_in_name_shingles_2\"])\n",
    "            pairs[feature_name] = pairs[feature_name] / 2\n",
    "\n",
    "            pairs[feature_name] = pairs[feature_name].astype(np.float16)\n",
    "\n",
    "    # Numbers in address similarity\n",
    "    for name in [\"overlap\"]:\n",
    "        feature_name = f\"numbers_in_address_{name}\"\n",
    "        if feature_name not in pairs.columns:\n",
    "            similarity = get_shingle_similarity(name)\n",
    "            pairs[feature_name] = similarity(train_df.loc[pairs[\"p1\"], f\"numbers_in_full_address_shingles_1\"],\n",
    "                                             train_df.loc[pairs[\"p2\"], f\"numbers_in_full_address_shingles_1\"])\n",
    "            pairs[feature_name] += similarity(train_df.loc[pairs[\"p1\"], f\"numbers_in_full_address_shingles_2\"],\n",
    "                                              train_df.loc[pairs[\"p2\"], f\"numbers_in_full_address_shingles_2\"])\n",
    "            pairs[feature_name] = pairs[feature_name] / 2\n",
    "\n",
    "            pairs[feature_name] = pairs[feature_name].astype(np.float16)\n",
    "\n",
    "    # Numbers in name-address similarity\n",
    "    for name in [\"overlap\"]:\n",
    "        feature_name = f\"numbers_in_name_address_{name}\"\n",
    "        if feature_name not in pairs.columns:\n",
    "            similarity = get_shingle_similarity(name)\n",
    "            pairs[feature_name] = similarity(train_df.loc[pairs[\"p1\"], f\"numbers_in_name_shingles_1\"],\n",
    "                                             train_df.loc[pairs[\"p2\"], f\"numbers_in_full_address_shingles_1\"])\n",
    "            pairs[feature_name] += similarity(train_df.loc[pairs[\"p1\"], f\"numbers_in_full_address_shingles_1\"], \n",
    "                                              train_df.loc[pairs[\"p2\"], f\"numbers_in_name_shingles_1\"])\n",
    "            pairs[feature_name] += similarity(train_df.loc[pairs[\"p1\"], f\"numbers_in_name_shingles_2\"],\n",
    "                                              train_df.loc[pairs[\"p2\"], f\"numbers_in_full_address_shingles_2\"])\n",
    "            pairs[feature_name] += similarity(train_df.loc[pairs[\"p1\"], f\"numbers_in_full_address_shingles_2\"],\n",
    "                                              train_df.loc[pairs[\"p2\"], f\"numbers_in_name_shingles_2\"])\n",
    "            pairs[feature_name] = pairs[feature_name] / 4\n",
    "\n",
    "            pairs[feature_name] = pairs[feature_name].astype(np.float16)\n",
    "\n",
    "    # Category\n",
    "    if \"categories1\" not in pairs.columns:\n",
    "        pairs[\"categories1\"] = train_df.loc[pairs[\"p1\"], \"categories_enc\"].to_numpy()\n",
    "        pairs[\"categories1\"] = pairs[\"categories1\"].astype(np.int32)\n",
    "\n",
    "    if \"categories2\" not in pairs.columns:\n",
    "        pairs[\"categories2\"] = train_df.loc[pairs[\"p2\"], \"categories_enc\"].to_numpy()\n",
    "        pairs[\"categories2\"] = pairs[\"categories2\"].astype(np.int32)\n",
    "        \n",
    "    # Categories text similarity\n",
    "    for name in [\"overlap\", \"jaccard\"]:\n",
    "        feature_name = f\"categories_{name}\"\n",
    "        if feature_name not in pairs.columns:\n",
    "            similarity = get_shingle_similarity(name)\n",
    "            pairs[feature_name] = similarity(train_df.loc[pairs[\"p1\"], f\"categories_shingles_3\"],\n",
    "                                             train_df.loc[pairs[\"p2\"], f\"categories_shingles_3\"])\n",
    "            pairs[feature_name] = pairs[feature_name].astype(np.float16)\n",
    "            \n",
    "    # Main categories text similarity\n",
    "    for name in [\"jaccard\", \"overlap\", \"cosine\"]:\n",
    "        feature_name = f\"main_category_{name}\"\n",
    "        if feature_name not in pairs.columns:\n",
    "            similarity = get_shingle_similarity(name)\n",
    "            pairs[feature_name] = similarity(train_df.loc[pairs[\"p1\"], f\"main_category_shingles_3\"],\n",
    "                                             train_df.loc[pairs[\"p2\"], f\"main_category_shingles_3\"])\n",
    "            pairs[feature_name] = pairs[feature_name].astype(np.float16) \n",
    "\n",
    "    # Country (same for every pair)\n",
    "    if \"country\" not in pairs.columns:\n",
    "        pairs[\"country1\"] = train_df.loc[pairs[\"p1\"], \"country_enc\"].to_numpy()\n",
    "        pairs[\"country1\"] = pairs[\"country1\"].astype(np.int32)\n",
    "        \n",
    "        pairs[\"country2\"] = train_df.loc[pairs[\"p2\"], \"country_enc\"].to_numpy()\n",
    "        pairs[\"country2\"] = pairs[\"country2\"].astype(np.int32)\n",
    "\n",
    "    # Main category\n",
    "    if \"main_category1\" not in pairs.columns:\n",
    "        pairs[\"main_category1\"] = train_df.loc[pairs[\"p1\"], \"main_category_enc\"].to_numpy()\n",
    "        pairs[\"main_category1\"] = pairs[\"main_category1\"].astype(np.int32)\n",
    "\n",
    "    if \"main_category2\" not in pairs.columns:\n",
    "        pairs[\"main_category2\"] = train_df.loc[pairs[\"p2\"], \"main_category_enc\"].to_numpy()\n",
    "        pairs[\"main_category2\"] = pairs[\"main_category2\"].astype(np.int32)\n",
    "        \n",
    "    # Closest city\n",
    "    if \"closest_city1\" not in pairs.columns:\n",
    "        pairs[\"closest_city1\"] = train_df.loc[pairs[\"p1\"], \"closest_city_enc\"].to_numpy()\n",
    "        pairs[\"closest_city1\"] = pairs[\"closest_city1\"].astype(np.int32)\n",
    "\n",
    "    if \"closest_city2\" not in pairs.columns:\n",
    "        pairs[\"closest_city2\"] = train_df.loc[pairs[\"p2\"], \"closest_city_enc\"].to_numpy()\n",
    "        pairs[\"closest_city2\"] = pairs[\"closest_city2\"].astype(np.int32)\n",
    "    \n",
    "    # TF-IDF features\n",
    "    for column in [\"name_cleaned\", \"full_address_cleaned\"]:\n",
    "        # for each id and match_id add corresponding TF-IDF vector\n",
    "        # than multiply them elementwise to get similarity\n",
    "        tv_fit = tfidf_d[column]\n",
    "        indexs = [id2index_d[i] for i in pairs['p1']]\n",
    "        match_indexs = [id2index_d[i] for i in pairs['p2']]                    \n",
    "        pairs[f\"tfidf_trigram_{column}\"] = tv_fit[indexs].multiply(tv_fit[match_indexs]).sum(axis = 1).A.ravel()\n",
    "            \n",
    "    # Group-by features\n",
    "    # Haversine features\n",
    "    groupby_p1 = pairs.groupby('p1')[\"haversine\"]\n",
    "    groupby_p2 = pairs.groupby('p2')[\"haversine\"]\n",
    "    pairs[f\"p1_haversine_mean\"] = groupby_p1.transform(\n",
    "        np.mean).astype(np.float32)\n",
    "    pairs[f\"p2_haversine_mean\"] = groupby_p2.transform(\n",
    "        np.mean).astype(np.float32)\n",
    "    pairs[f\"p1_haversine_min\"] = groupby_p1.transform(\n",
    "        np.min).astype(np.float32)\n",
    "    pairs[f\"p2_haversine_min\"] = groupby_p2.transform(\n",
    "        np.min).astype(np.float32)\n",
    "    pairs[f\"p1_haversine_max\"] = groupby_p1.transform(\n",
    "        np.max).astype(np.float32)\n",
    "    pairs[f\"p2_haversine_max\"] = groupby_p2.transform(\n",
    "        np.max).astype(np.float32)\n",
    "\n",
    "    pairs[f\"p1_haversine_rank\"] = ((groupby_p1.transform(\n",
    "        \"rank\", method=\"min\") - 1) / pairs[\"count1\"]).astype(np.float16)\n",
    "    pairs[f\"p2_haversine_rank\"] = ((groupby_p2.transform(\n",
    "        \"rank\", method=\"min\") - 1) / pairs[\"count2\"]).astype(np.float16)\n",
    "    \n",
    "    # Manhattan features\n",
    "    groupby_p1 = pairs.groupby('p1')[\"manhattan\"]\n",
    "    groupby_p2 = pairs.groupby('p2')[\"manhattan\"]\n",
    "    pairs[f\"p1_manhattan_mean\"] = groupby_p1.transform(\n",
    "        np.mean).astype(np.float32)\n",
    "    pairs[f\"p2_manhattan_mean\"] = groupby_p2.transform(\n",
    "        np.mean).astype(np.float32)\n",
    "    pairs[f\"p1_manhattan_min\"] = groupby_p1.transform(\n",
    "        np.min).astype(np.float32)\n",
    "    pairs[f\"p2_manhattan_min\"] = groupby_p2.transform(\n",
    "        np.min).astype(np.float32)\n",
    "    pairs[f\"p1_manhattan_max\"] = groupby_p1.transform(\n",
    "        np.max).astype(np.float32)\n",
    "    pairs[f\"p2_manhattan_max\"] = groupby_p2.transform(\n",
    "        np.max).astype(np.float32)\n",
    "\n",
    "    pairs[f\"p1_manhattan_rank\"] = ((groupby_p1.transform(\n",
    "        \"rank\", method=\"min\") - 1) / pairs[\"count1\"]).astype(np.float16)\n",
    "    pairs[f\"p2_manhattan_rank\"] = ((groupby_p2.transform(\n",
    "        \"rank\", method=\"min\") - 1) / pairs[\"count2\"]).astype(np.float16)\n",
    "    \n",
    "    # Euclidian features\n",
    "    groupby_p1 = pairs.groupby('p1')[\"euclidian\"]\n",
    "    groupby_p2 = pairs.groupby('p2')[\"euclidian\"]\n",
    "    pairs[f\"p1_euclidian_mean\"] = groupby_p1.transform(\n",
    "        np.mean).astype(np.float32)\n",
    "    pairs[f\"p2_euclidian_mean\"] = groupby_p2.transform(\n",
    "        np.mean).astype(np.float32)\n",
    "    pairs[f\"p1_euclidian_min\"] = groupby_p1.transform(\n",
    "        np.min).astype(np.float32)\n",
    "    pairs[f\"p2_euclidian_min\"] = groupby_p2.transform(\n",
    "        np.min).astype(np.float32)\n",
    "    pairs[f\"p1_euclidian_max\"] = groupby_p1.transform(\n",
    "        np.max).astype(np.float32)\n",
    "    pairs[f\"p2_euclidian_max\"] = groupby_p2.transform(\n",
    "        np.max).astype(np.float32)\n",
    "\n",
    "    pairs[f\"p1_euclidian_rank\"] = ((groupby_p1.transform(\n",
    "        \"rank\", method=\"min\") - 1) / pairs[\"count1\"]).astype(np.float16)\n",
    "    pairs[f\"p2_euclidian_rank\"] = ((groupby_p2.transform(\n",
    "        \"rank\", method=\"min\") - 1) / pairs[\"count2\"]).astype(np.float16)\n",
    "\n",
    "    # Name features\n",
    "    for feature in [\"name_cleaned_overlap_3\"]:\n",
    "        groupby_p1 = pairs.groupby('p1')[feature]\n",
    "        groupby_p2 = pairs.groupby('p2')[feature]\n",
    "        pairs[f\"p1_{feature}_mean\"] = groupby_p1.transform(\n",
    "            np.mean).astype(np.float16)\n",
    "        pairs[f\"p2_{feature}_mean\"] = groupby_p2.transform(\n",
    "            np.mean).astype(np.float16)\n",
    "        pairs[f\"p1_{feature}_max\"] = groupby_p1.transform(\n",
    "            np.max).astype(np.float16)\n",
    "        pairs[f\"p2_{feature}_max\"] = groupby_p2.transform(\n",
    "            np.max).astype(np.float16)\n",
    "\n",
    "        pairs[f\"p1_{feature}_rank\"] = ((groupby_p1.transform(\n",
    "            \"rank\", method=\"min\") - 1) / pairs[\"count1\"]).astype(np.float16)\n",
    "        pairs[f\"p2_{feature}_rank\"] = ((groupby_p2.transform(\n",
    "            \"rank\", method=\"min\") - 1) / pairs[\"count2\"]).astype(np.float16)\n",
    "\n",
    "    # Address/numbers features: only mean\n",
    "    for feature in [\"full_address_overlap_3\", \"numbers_in_name_overlap\",\n",
    "                    \"numbers_in_address_overlap\", \"numbers_in_name_address_overlap\",\n",
    "                    \"categories_overlap\", \"categories_jaccard\"]:\n",
    "        groupby_p1 = pairs.groupby('p1')[feature]\n",
    "        groupby_p2 = pairs.groupby('p2')[feature]\n",
    "        pairs[f\"p1_{feature}_mean\"] = groupby_p1.transform(\n",
    "            np.mean).astype(np.float16)\n",
    "        pairs[f\"p2_{feature}_mean\"] = groupby_p2.transform(\n",
    "            np.mean).astype(np.float16)\n",
    "\n",
    "    return pairs\n",
    "\n",
    "def overlap(profile0, profile1):\n",
    "    union = set()\n",
    "    for k in profile0.keys():\n",
    "        union.add(k)\n",
    "    for k in profile1.keys():\n",
    "        union.add(k)\n",
    "    inter = int(len(profile0.keys()) + len(profile1.keys()) - len(union))\n",
    "    return inter / min(len(profile0), len(profile1))\n",
    "\n",
    "\n",
    "def jaccard(profile0, profile1):\n",
    "    union = set()\n",
    "    for ite in profile0.keys():\n",
    "        union.add(ite)\n",
    "    for ite in profile1.keys():\n",
    "        union.add(ite)\n",
    "    inter = int(len(profile0.keys()) + len(profile1.keys()) - len(union))\n",
    "    return 1.0 * inter / len(union)\n",
    "\n",
    "\n",
    "def cosine(profile0, profile1):\n",
    "    small = profile1\n",
    "    large = profile0\n",
    "    if len(profile0) < len(profile1):\n",
    "        small = profile0\n",
    "        large = profile1\n",
    "    agg = 0.0\n",
    "    for k, v in small.items():\n",
    "        i = large.get(k)\n",
    "        if not i:\n",
    "            continue\n",
    "        agg += 1.0 * v * i\n",
    "    dot_product = agg\n",
    "\n",
    "    agg = 0.0\n",
    "    for k, v in profile0.items():\n",
    "        agg += 1.0 * v * v\n",
    "    profile0_norm = math.sqrt(agg)\n",
    "\n",
    "    agg = 0.0\n",
    "    for k, v in profile1.items():\n",
    "        agg += 1.0 * v * v\n",
    "    profile1_norm = math.sqrt(agg)\n",
    "\n",
    "    return dot_product / (profile0_norm * profile1_norm)\n",
    "\n",
    "\n",
    "def get_shingle_similarity(name):\n",
    "    if name == \"cosine\":\n",
    "        func = cosine\n",
    "    elif name == \"jaccard\":\n",
    "        func = jaccard\n",
    "    elif name == \"overlap\":\n",
    "        func = overlap\n",
    "\n",
    "    func_ = np.vectorize(\n",
    "        lambda x1, x2: pair_func(func, x1, x2))\n",
    "    return func_\n",
    "\n",
    "def seq_match_distance(str1, str2):\n",
    "    if str1 == 'unknown' or str2 == 'unknown':\n",
    "        return np.nan\n",
    "    return Levenshtein.ratio(str1, str2)\n",
    "\n",
    "def lev_distance(str1, str2):\n",
    "    if str1 == 'unknown' or str2 == 'unknown':\n",
    "        return np.nan\n",
    "    return Levenshtein.distance(str1, str2)\n",
    "\n",
    "def jw_distance(str1, str2):\n",
    "    if str1 == 'unknown' or str2 == 'unknown':\n",
    "        return np.nan\n",
    "    return Levenshtein.jaro_winkler(str1, str2)\n",
    "\n",
    "def lcs_distance(str1, str2):\n",
    "    if str1 == 'unknown' or str2 == 'unknown':\n",
    "        return np.nan\n",
    "    return LCS(str(str1), str(str2))\n",
    "\n",
    "def haversine_vec(lat1, lon1, lat2, lon2):\n",
    "    def h(la1, lo1, la2, lo2):\n",
    "        return haversine((la1, lo1), (la2, lo2), unit='m')\n",
    "    return np.vectorize(h)(lat1, lon1, lat2, lon2)"
   ]
  },
  {
   "cell_type": "markdown",
   "id": "9ffd484e",
   "metadata": {},
   "source": [
    "## Generate dataset"
   ]
  },
  {
   "cell_type": "code",
   "execution_count": 18,
   "id": "f766267e",
   "metadata": {
    "execution": {
     "iopub.execute_input": "2022-06-26T21:10:15.937776Z",
     "iopub.status.busy": "2022-06-26T21:10:15.936842Z",
     "iopub.status.idle": "2022-06-26T21:10:15.949780Z",
     "shell.execute_reply": "2022-06-26T21:10:15.948726Z"
    },
    "papermill": {
     "duration": 0.023384,
     "end_time": "2022-06-26T21:10:15.951689",
     "exception": false,
     "start_time": "2022-06-26T21:10:15.928305",
     "status": "completed"
    },
    "scrolled": true,
    "tags": []
   },
   "outputs": [
    {
     "name": "stdout",
     "output_type": "stream",
     "text": [
      "Current split: 1\n"
     ]
    },
    {
     "data": {
      "application/vnd.jupyter.widget-view+json": {
       "model_id": "b8726a501b86401381937b1c087f9ef2",
       "version_major": 2,
       "version_minor": 0
      },
      "text/plain": [
       "  0%|          | 0/2 [00:00<?, ?it/s]"
      ]
     },
     "metadata": {},
     "output_type": "display_data"
    },
    {
     "name": "stdout",
     "output_type": "stream",
     "text": [
      "Current split: 1\n"
     ]
    },
    {
     "data": {
      "application/vnd.jupyter.widget-view+json": {
       "model_id": "477acd7b5baf45178418385619a04422",
       "version_major": 2,
       "version_minor": 0
      },
      "text/plain": [
       "  0%|          | 0/2 [00:00<?, ?it/s]"
      ]
     },
     "metadata": {},
     "output_type": "display_data"
    },
    {
     "data": {
      "application/vnd.jupyter.widget-view+json": {
       "model_id": "7d40abf50d8746d3a0c8c9e18adca525",
       "version_major": 2,
       "version_minor": 0
      },
      "text/plain": [
       "  0%|          | 0/2 [00:00<?, ?it/s]"
      ]
     },
     "metadata": {},
     "output_type": "display_data"
    },
    {
     "data": {
      "application/vnd.jupyter.widget-view+json": {
       "model_id": "e2be1f399e38447a9c6bb645d283c05e",
       "version_major": 2,
       "version_minor": 0
      },
      "text/plain": [
       "  0%|          | 0/2 [00:00<?, ?it/s]"
      ]
     },
     "metadata": {},
     "output_type": "display_data"
    },
    {
     "data": {
      "application/vnd.jupyter.widget-view+json": {
       "model_id": "23bf5999d7ca42179011d9d23e1c190d",
       "version_major": 2,
       "version_minor": 0
      },
      "text/plain": [
       "  0%|          | 0/2 [00:00<?, ?it/s]"
      ]
     },
     "metadata": {},
     "output_type": "display_data"
    },
    {
     "data": {
      "application/vnd.jupyter.widget-view+json": {
       "model_id": "610fc091d2c849088fe69c171623385d",
       "version_major": 2,
       "version_minor": 0
      },
      "text/plain": [
       "  0%|          | 0/2 [00:00<?, ?it/s]"
      ]
     },
     "metadata": {},
     "output_type": "display_data"
    },
    {
     "data": {
      "application/vnd.jupyter.widget-view+json": {
       "model_id": "6d6df694388e4d11a985080559e18acd",
       "version_major": 2,
       "version_minor": 0
      },
      "text/plain": [
       "  0%|          | 0/1 [00:00<?, ?it/s]"
      ]
     },
     "metadata": {},
     "output_type": "display_data"
    },
    {
     "data": {
      "application/vnd.jupyter.widget-view+json": {
       "model_id": "e1b1824e9527448db8933e2d8fe4f66e",
       "version_major": 2,
       "version_minor": 0
      },
      "text/plain": [
       "  0%|          | 0/1 [00:00<?, ?it/s]"
      ]
     },
     "metadata": {},
     "output_type": "display_data"
    },
    {
     "data": {
      "application/vnd.jupyter.widget-view+json": {
       "model_id": "3493e2aef8eb4ab6962df46487c6c69d",
       "version_major": 2,
       "version_minor": 0
      },
      "text/plain": [
       "  0%|          | 0/1 [00:00<?, ?it/s]"
      ]
     },
     "metadata": {},
     "output_type": "display_data"
    },
    {
     "data": {
      "application/vnd.jupyter.widget-view+json": {
       "model_id": "10f75a2a332b40d09b024fc3ffd284ce",
       "version_major": 2,
       "version_minor": 0
      },
      "text/plain": [
       "  0%|          | 0/1 [00:00<?, ?it/s]"
      ]
     },
     "metadata": {},
     "output_type": "display_data"
    },
    {
     "data": {
      "application/vnd.jupyter.widget-view+json": {
       "model_id": "3cd73f30c8574ee9bf08b45f285a6b02",
       "version_major": 2,
       "version_minor": 0
      },
      "text/plain": [
       "  0%|          | 0/1 [00:00<?, ?it/s]"
      ]
     },
     "metadata": {},
     "output_type": "display_data"
    },
    {
     "data": {
      "application/vnd.jupyter.widget-view+json": {
       "model_id": "6e5f341f04da47b4a73d2ac8e95feb8b",
       "version_major": 2,
       "version_minor": 0
      },
      "text/plain": [
       "  0%|          | 0/1 [00:00<?, ?it/s]"
      ]
     },
     "metadata": {},
     "output_type": "display_data"
    },
    {
     "name": "stdout",
     "output_type": "stream",
     "text": [
      "Current split: 2\n"
     ]
    },
    {
     "data": {
      "application/vnd.jupyter.widget-view+json": {
       "model_id": "3a333434eda348fb90383352915d967e",
       "version_major": 2,
       "version_minor": 0
      },
      "text/plain": [
       "  0%|          | 0/2 [00:00<?, ?it/s]"
      ]
     },
     "metadata": {},
     "output_type": "display_data"
    },
    {
     "data": {
      "application/vnd.jupyter.widget-view+json": {
       "model_id": "b1cdaaf56bb14701b4424b0f8c325e57",
       "version_major": 2,
       "version_minor": 0
      },
      "text/plain": [
       "  0%|          | 0/2 [00:00<?, ?it/s]"
      ]
     },
     "metadata": {},
     "output_type": "display_data"
    },
    {
     "name": "stdout",
     "output_type": "stream",
     "text": [
      "Current split: 2\n"
     ]
    },
    {
     "data": {
      "application/vnd.jupyter.widget-view+json": {
       "model_id": "68a54d32ac8745da885f0702e8729180",
       "version_major": 2,
       "version_minor": 0
      },
      "text/plain": [
       "  0%|          | 0/2 [00:00<?, ?it/s]"
      ]
     },
     "metadata": {},
     "output_type": "display_data"
    },
    {
     "data": {
      "application/vnd.jupyter.widget-view+json": {
       "model_id": "2586b64e36604fa4b60bf2542782e9b6",
       "version_major": 2,
       "version_minor": 0
      },
      "text/plain": [
       "  0%|          | 0/2 [00:00<?, ?it/s]"
      ]
     },
     "metadata": {},
     "output_type": "display_data"
    },
    {
     "data": {
      "application/vnd.jupyter.widget-view+json": {
       "model_id": "213ce4b25be14e5e97e53d4760dbd3ea",
       "version_major": 2,
       "version_minor": 0
      },
      "text/plain": [
       "  0%|          | 0/2 [00:00<?, ?it/s]"
      ]
     },
     "metadata": {},
     "output_type": "display_data"
    },
    {
     "data": {
      "application/vnd.jupyter.widget-view+json": {
       "model_id": "86ba2b39cf654638a90c2284df3287d5",
       "version_major": 2,
       "version_minor": 0
      },
      "text/plain": [
       "  0%|          | 0/1 [00:00<?, ?it/s]"
      ]
     },
     "metadata": {},
     "output_type": "display_data"
    },
    {
     "data": {
      "application/vnd.jupyter.widget-view+json": {
       "model_id": "b527bcc200d6467188cb6654505ed5fa",
       "version_major": 2,
       "version_minor": 0
      },
      "text/plain": [
       "  0%|          | 0/2 [00:00<?, ?it/s]"
      ]
     },
     "metadata": {},
     "output_type": "display_data"
    },
    {
     "data": {
      "application/vnd.jupyter.widget-view+json": {
       "model_id": "7934b283513e4bac8cce3461b24862b7",
       "version_major": 2,
       "version_minor": 0
      },
      "text/plain": [
       "  0%|          | 0/1 [00:00<?, ?it/s]"
      ]
     },
     "metadata": {},
     "output_type": "display_data"
    },
    {
     "data": {
      "application/vnd.jupyter.widget-view+json": {
       "model_id": "4a135ad052f44fb682b0766bbcd47594",
       "version_major": 2,
       "version_minor": 0
      },
      "text/plain": [
       "  0%|          | 0/1 [00:00<?, ?it/s]"
      ]
     },
     "metadata": {},
     "output_type": "display_data"
    },
    {
     "data": {
      "application/vnd.jupyter.widget-view+json": {
       "model_id": "e2fa6a4b55b04b818938335a6885fefc",
       "version_major": 2,
       "version_minor": 0
      },
      "text/plain": [
       "  0%|          | 0/1 [00:00<?, ?it/s]"
      ]
     },
     "metadata": {},
     "output_type": "display_data"
    },
    {
     "data": {
      "application/vnd.jupyter.widget-view+json": {
       "model_id": "2000472020634126b6cdebe70e41144c",
       "version_major": 2,
       "version_minor": 0
      },
      "text/plain": [
       "  0%|          | 0/1 [00:00<?, ?it/s]"
      ]
     },
     "metadata": {},
     "output_type": "display_data"
    },
    {
     "data": {
      "application/vnd.jupyter.widget-view+json": {
       "model_id": "29226aef145c4463bcad0ae416b5c1d8",
       "version_major": 2,
       "version_minor": 0
      },
      "text/plain": [
       "  0%|          | 0/1 [00:00<?, ?it/s]"
      ]
     },
     "metadata": {},
     "output_type": "display_data"
    },
    {
     "name": "stdout",
     "output_type": "stream",
     "text": [
      "Current split: 3\n"
     ]
    },
    {
     "data": {
      "application/vnd.jupyter.widget-view+json": {
       "model_id": "90d12168069140a2bff36594842815c0",
       "version_major": 2,
       "version_minor": 0
      },
      "text/plain": [
       "  0%|          | 0/2 [00:00<?, ?it/s]"
      ]
     },
     "metadata": {},
     "output_type": "display_data"
    },
    {
     "data": {
      "application/vnd.jupyter.widget-view+json": {
       "model_id": "7c3283628df34387b0bd8cde1ba62f1b",
       "version_major": 2,
       "version_minor": 0
      },
      "text/plain": [
       "  0%|          | 0/2 [00:00<?, ?it/s]"
      ]
     },
     "metadata": {},
     "output_type": "display_data"
    },
    {
     "name": "stdout",
     "output_type": "stream",
     "text": [
      "Current split: 3\n"
     ]
    },
    {
     "data": {
      "application/vnd.jupyter.widget-view+json": {
       "model_id": "b40a1e89a9f94f0b9dda490cb79ccb63",
       "version_major": 2,
       "version_minor": 0
      },
      "text/plain": [
       "  0%|          | 0/2 [00:00<?, ?it/s]"
      ]
     },
     "metadata": {},
     "output_type": "display_data"
    },
    {
     "data": {
      "application/vnd.jupyter.widget-view+json": {
       "model_id": "59173dffbfc4460c9a2dc814602e1ff0",
       "version_major": 2,
       "version_minor": 0
      },
      "text/plain": [
       "  0%|          | 0/2 [00:00<?, ?it/s]"
      ]
     },
     "metadata": {},
     "output_type": "display_data"
    },
    {
     "data": {
      "application/vnd.jupyter.widget-view+json": {
       "model_id": "5adbd0e01d06480ca4a0466c30118c6c",
       "version_major": 2,
       "version_minor": 0
      },
      "text/plain": [
       "  0%|          | 0/2 [00:00<?, ?it/s]"
      ]
     },
     "metadata": {},
     "output_type": "display_data"
    },
    {
     "data": {
      "application/vnd.jupyter.widget-view+json": {
       "model_id": "784d5dcf5a3e467ea67774d98b3ac64a",
       "version_major": 2,
       "version_minor": 0
      },
      "text/plain": [
       "  0%|          | 0/1 [00:00<?, ?it/s]"
      ]
     },
     "metadata": {},
     "output_type": "display_data"
    },
    {
     "data": {
      "application/vnd.jupyter.widget-view+json": {
       "model_id": "5d53d5e289c548afa4996cec0e9aca99",
       "version_major": 2,
       "version_minor": 0
      },
      "text/plain": [
       "  0%|          | 0/2 [00:00<?, ?it/s]"
      ]
     },
     "metadata": {},
     "output_type": "display_data"
    },
    {
     "data": {
      "application/vnd.jupyter.widget-view+json": {
       "model_id": "3481893df0024df48b1f54688b253f04",
       "version_major": 2,
       "version_minor": 0
      },
      "text/plain": [
       "  0%|          | 0/1 [00:00<?, ?it/s]"
      ]
     },
     "metadata": {},
     "output_type": "display_data"
    },
    {
     "data": {
      "application/vnd.jupyter.widget-view+json": {
       "model_id": "46fbdfcfe11c4010a811f408c2eaf5c4",
       "version_major": 2,
       "version_minor": 0
      },
      "text/plain": [
       "  0%|          | 0/1 [00:00<?, ?it/s]"
      ]
     },
     "metadata": {},
     "output_type": "display_data"
    },
    {
     "data": {
      "application/vnd.jupyter.widget-view+json": {
       "model_id": "aede53e6a3a54e91b94ad5e94a19204e",
       "version_major": 2,
       "version_minor": 0
      },
      "text/plain": [
       "  0%|          | 0/1 [00:00<?, ?it/s]"
      ]
     },
     "metadata": {},
     "output_type": "display_data"
    },
    {
     "data": {
      "application/vnd.jupyter.widget-view+json": {
       "model_id": "577fc91888594aeaab36edabd5b0e9be",
       "version_major": 2,
       "version_minor": 0
      },
      "text/plain": [
       "  0%|          | 0/1 [00:00<?, ?it/s]"
      ]
     },
     "metadata": {},
     "output_type": "display_data"
    },
    {
     "data": {
      "application/vnd.jupyter.widget-view+json": {
       "model_id": "c11955b0a8e54c81830956a02d28b37e",
       "version_major": 2,
       "version_minor": 0
      },
      "text/plain": [
       "  0%|          | 0/1 [00:00<?, ?it/s]"
      ]
     },
     "metadata": {},
     "output_type": "display_data"
    },
    {
     "name": "stdout",
     "output_type": "stream",
     "text": [
      "Current split: 4\n"
     ]
    },
    {
     "data": {
      "application/vnd.jupyter.widget-view+json": {
       "model_id": "334692d2f2d342958bb1d601d0442b27",
       "version_major": 2,
       "version_minor": 0
      },
      "text/plain": [
       "  0%|          | 0/2 [00:00<?, ?it/s]"
      ]
     },
     "metadata": {},
     "output_type": "display_data"
    },
    {
     "data": {
      "application/vnd.jupyter.widget-view+json": {
       "model_id": "03bad1b337164e6fbb8783cb4004be6d",
       "version_major": 2,
       "version_minor": 0
      },
      "text/plain": [
       "  0%|          | 0/2 [00:00<?, ?it/s]"
      ]
     },
     "metadata": {},
     "output_type": "display_data"
    },
    {
     "name": "stdout",
     "output_type": "stream",
     "text": [
      "Current split: 4\n"
     ]
    },
    {
     "data": {
      "application/vnd.jupyter.widget-view+json": {
       "model_id": "69d616f3ac064199b880916f646d3675",
       "version_major": 2,
       "version_minor": 0
      },
      "text/plain": [
       "  0%|          | 0/2 [00:00<?, ?it/s]"
      ]
     },
     "metadata": {},
     "output_type": "display_data"
    },
    {
     "data": {
      "application/vnd.jupyter.widget-view+json": {
       "model_id": "20ef1753249b4823ba6459812515d3d9",
       "version_major": 2,
       "version_minor": 0
      },
      "text/plain": [
       "  0%|          | 0/2 [00:00<?, ?it/s]"
      ]
     },
     "metadata": {},
     "output_type": "display_data"
    },
    {
     "data": {
      "application/vnd.jupyter.widget-view+json": {
       "model_id": "896fc18db26041378d6431c2c739428c",
       "version_major": 2,
       "version_minor": 0
      },
      "text/plain": [
       "  0%|          | 0/2 [00:00<?, ?it/s]"
      ]
     },
     "metadata": {},
     "output_type": "display_data"
    },
    {
     "data": {
      "application/vnd.jupyter.widget-view+json": {
       "model_id": "91b55c5b6535496ab6cfebbe0781237e",
       "version_major": 2,
       "version_minor": 0
      },
      "text/plain": [
       "  0%|          | 0/1 [00:00<?, ?it/s]"
      ]
     },
     "metadata": {},
     "output_type": "display_data"
    },
    {
     "data": {
      "application/vnd.jupyter.widget-view+json": {
       "model_id": "3885a643d68a45b9995c44f7830206c3",
       "version_major": 2,
       "version_minor": 0
      },
      "text/plain": [
       "  0%|          | 0/2 [00:00<?, ?it/s]"
      ]
     },
     "metadata": {},
     "output_type": "display_data"
    },
    {
     "data": {
      "application/vnd.jupyter.widget-view+json": {
       "model_id": "cc89ca3721a84108912ed8a4caafe723",
       "version_major": 2,
       "version_minor": 0
      },
      "text/plain": [
       "  0%|          | 0/1 [00:00<?, ?it/s]"
      ]
     },
     "metadata": {},
     "output_type": "display_data"
    },
    {
     "data": {
      "application/vnd.jupyter.widget-view+json": {
       "model_id": "55c004f3dbea4c39b234bf6ba7d04e07",
       "version_major": 2,
       "version_minor": 0
      },
      "text/plain": [
       "  0%|          | 0/1 [00:00<?, ?it/s]"
      ]
     },
     "metadata": {},
     "output_type": "display_data"
    },
    {
     "data": {
      "application/vnd.jupyter.widget-view+json": {
       "model_id": "5a0599b234d7410b8d6609646d917b82",
       "version_major": 2,
       "version_minor": 0
      },
      "text/plain": [
       "  0%|          | 0/1 [00:00<?, ?it/s]"
      ]
     },
     "metadata": {},
     "output_type": "display_data"
    },
    {
     "data": {
      "application/vnd.jupyter.widget-view+json": {
       "model_id": "6b0d291be2ae44fc8472824c2b21e7a7",
       "version_major": 2,
       "version_minor": 0
      },
      "text/plain": [
       "  0%|          | 0/1 [00:00<?, ?it/s]"
      ]
     },
     "metadata": {},
     "output_type": "display_data"
    },
    {
     "data": {
      "application/vnd.jupyter.widget-view+json": {
       "model_id": "6b9d41e8b8ad4ea7a572ec0a47132d24",
       "version_major": 2,
       "version_minor": 0
      },
      "text/plain": [
       "  0%|          | 0/1 [00:00<?, ?it/s]"
      ]
     },
     "metadata": {},
     "output_type": "display_data"
    },
    {
     "name": "stdout",
     "output_type": "stream",
     "text": [
      "Current split: 5\n"
     ]
    },
    {
     "data": {
      "application/vnd.jupyter.widget-view+json": {
       "model_id": "19a4f820d6a743b58557bb579e4b91fd",
       "version_major": 2,
       "version_minor": 0
      },
      "text/plain": [
       "  0%|          | 0/2 [00:00<?, ?it/s]"
      ]
     },
     "metadata": {},
     "output_type": "display_data"
    },
    {
     "data": {
      "application/vnd.jupyter.widget-view+json": {
       "model_id": "f888c9e1a3f24f3da45b8acbe8ba9113",
       "version_major": 2,
       "version_minor": 0
      },
      "text/plain": [
       "  0%|          | 0/2 [00:00<?, ?it/s]"
      ]
     },
     "metadata": {},
     "output_type": "display_data"
    },
    {
     "name": "stdout",
     "output_type": "stream",
     "text": [
      "Current split: 5\n"
     ]
    },
    {
     "data": {
      "application/vnd.jupyter.widget-view+json": {
       "model_id": "a6c7ba5c8f9d447e9e14c535c92bde2d",
       "version_major": 2,
       "version_minor": 0
      },
      "text/plain": [
       "  0%|          | 0/2 [00:00<?, ?it/s]"
      ]
     },
     "metadata": {},
     "output_type": "display_data"
    },
    {
     "data": {
      "application/vnd.jupyter.widget-view+json": {
       "model_id": "09912b564c574ffb9e69f146f269d587",
       "version_major": 2,
       "version_minor": 0
      },
      "text/plain": [
       "  0%|          | 0/2 [00:00<?, ?it/s]"
      ]
     },
     "metadata": {},
     "output_type": "display_data"
    },
    {
     "data": {
      "application/vnd.jupyter.widget-view+json": {
       "model_id": "bdbbd6a191e64c15af7d2d37a820e4f1",
       "version_major": 2,
       "version_minor": 0
      },
      "text/plain": [
       "  0%|          | 0/2 [00:00<?, ?it/s]"
      ]
     },
     "metadata": {},
     "output_type": "display_data"
    },
    {
     "data": {
      "application/vnd.jupyter.widget-view+json": {
       "model_id": "af9c94b744f4422199121a0c2428fa7c",
       "version_major": 2,
       "version_minor": 0
      },
      "text/plain": [
       "  0%|          | 0/1 [00:00<?, ?it/s]"
      ]
     },
     "metadata": {},
     "output_type": "display_data"
    },
    {
     "data": {
      "application/vnd.jupyter.widget-view+json": {
       "model_id": "24c2c0c7620c406fa58b75bed41616fc",
       "version_major": 2,
       "version_minor": 0
      },
      "text/plain": [
       "  0%|          | 0/2 [00:00<?, ?it/s]"
      ]
     },
     "metadata": {},
     "output_type": "display_data"
    },
    {
     "data": {
      "application/vnd.jupyter.widget-view+json": {
       "model_id": "c635f12a39d24157afd7b5de28cfeb4a",
       "version_major": 2,
       "version_minor": 0
      },
      "text/plain": [
       "  0%|          | 0/1 [00:00<?, ?it/s]"
      ]
     },
     "metadata": {},
     "output_type": "display_data"
    },
    {
     "data": {
      "application/vnd.jupyter.widget-view+json": {
       "model_id": "50ebc1ad89274bcabc0b069f8525867a",
       "version_major": 2,
       "version_minor": 0
      },
      "text/plain": [
       "  0%|          | 0/1 [00:00<?, ?it/s]"
      ]
     },
     "metadata": {},
     "output_type": "display_data"
    },
    {
     "data": {
      "application/vnd.jupyter.widget-view+json": {
       "model_id": "88c08b78cf76482393e736f840472d38",
       "version_major": 2,
       "version_minor": 0
      },
      "text/plain": [
       "  0%|          | 0/1 [00:00<?, ?it/s]"
      ]
     },
     "metadata": {},
     "output_type": "display_data"
    },
    {
     "data": {
      "application/vnd.jupyter.widget-view+json": {
       "model_id": "ecd13ea9573045509c292c0a167b8f8b",
       "version_major": 2,
       "version_minor": 0
      },
      "text/plain": [
       "  0%|          | 0/1 [00:00<?, ?it/s]"
      ]
     },
     "metadata": {},
     "output_type": "display_data"
    },
    {
     "data": {
      "application/vnd.jupyter.widget-view+json": {
       "model_id": "1672c51762964eefbaa1beaeba745adf",
       "version_major": 2,
       "version_minor": 0
      },
      "text/plain": [
       "  0%|          | 0/1 [00:00<?, ?it/s]"
      ]
     },
     "metadata": {},
     "output_type": "display_data"
    },
    {
     "name": "stdout",
     "output_type": "stream",
     "text": [
      "Current split: 6\n"
     ]
    },
    {
     "data": {
      "application/vnd.jupyter.widget-view+json": {
       "model_id": "1b82b2fc0b5b45a6bb3fd77802fa5604",
       "version_major": 2,
       "version_minor": 0
      },
      "text/plain": [
       "  0%|          | 0/2 [00:00<?, ?it/s]"
      ]
     },
     "metadata": {},
     "output_type": "display_data"
    },
    {
     "data": {
      "application/vnd.jupyter.widget-view+json": {
       "model_id": "9d2f71759e374d058955c7cbd4a037dd",
       "version_major": 2,
       "version_minor": 0
      },
      "text/plain": [
       "  0%|          | 0/2 [00:00<?, ?it/s]"
      ]
     },
     "metadata": {},
     "output_type": "display_data"
    },
    {
     "name": "stdout",
     "output_type": "stream",
     "text": [
      "Current split: 6\n"
     ]
    },
    {
     "data": {
      "application/vnd.jupyter.widget-view+json": {
       "model_id": "b459b831b0c642e9881b8a43c559cc13",
       "version_major": 2,
       "version_minor": 0
      },
      "text/plain": [
       "  0%|          | 0/2 [00:00<?, ?it/s]"
      ]
     },
     "metadata": {},
     "output_type": "display_data"
    },
    {
     "data": {
      "application/vnd.jupyter.widget-view+json": {
       "model_id": "a6f54721319a4157bdb5ad088da3df35",
       "version_major": 2,
       "version_minor": 0
      },
      "text/plain": [
       "  0%|          | 0/2 [00:00<?, ?it/s]"
      ]
     },
     "metadata": {},
     "output_type": "display_data"
    },
    {
     "data": {
      "application/vnd.jupyter.widget-view+json": {
       "model_id": "0b7581819b1d4d8d91ca5e1fd3a6c9da",
       "version_major": 2,
       "version_minor": 0
      },
      "text/plain": [
       "  0%|          | 0/2 [00:00<?, ?it/s]"
      ]
     },
     "metadata": {},
     "output_type": "display_data"
    },
    {
     "data": {
      "application/vnd.jupyter.widget-view+json": {
       "model_id": "620fc4db2ccf44db9d96cdfdef2c7a77",
       "version_major": 2,
       "version_minor": 0
      },
      "text/plain": [
       "  0%|          | 0/1 [00:00<?, ?it/s]"
      ]
     },
     "metadata": {},
     "output_type": "display_data"
    },
    {
     "data": {
      "application/vnd.jupyter.widget-view+json": {
       "model_id": "64af9b9567b3464fb10f0d109c9cf127",
       "version_major": 2,
       "version_minor": 0
      },
      "text/plain": [
       "  0%|          | 0/2 [00:00<?, ?it/s]"
      ]
     },
     "metadata": {},
     "output_type": "display_data"
    },
    {
     "data": {
      "application/vnd.jupyter.widget-view+json": {
       "model_id": "557862988a11451187cc2495952de68c",
       "version_major": 2,
       "version_minor": 0
      },
      "text/plain": [
       "  0%|          | 0/1 [00:00<?, ?it/s]"
      ]
     },
     "metadata": {},
     "output_type": "display_data"
    },
    {
     "data": {
      "application/vnd.jupyter.widget-view+json": {
       "model_id": "b376c7d8578841699c69b65dec364d7f",
       "version_major": 2,
       "version_minor": 0
      },
      "text/plain": [
       "  0%|          | 0/1 [00:00<?, ?it/s]"
      ]
     },
     "metadata": {},
     "output_type": "display_data"
    },
    {
     "data": {
      "application/vnd.jupyter.widget-view+json": {
       "model_id": "72d86ec785aa42ed9d7691311081bdeb",
       "version_major": 2,
       "version_minor": 0
      },
      "text/plain": [
       "  0%|          | 0/1 [00:00<?, ?it/s]"
      ]
     },
     "metadata": {},
     "output_type": "display_data"
    },
    {
     "data": {
      "application/vnd.jupyter.widget-view+json": {
       "model_id": "02e8cae6b8924944909b5d81d6e4f183",
       "version_major": 2,
       "version_minor": 0
      },
      "text/plain": [
       "  0%|          | 0/1 [00:00<?, ?it/s]"
      ]
     },
     "metadata": {},
     "output_type": "display_data"
    },
    {
     "data": {
      "application/vnd.jupyter.widget-view+json": {
       "model_id": "8fa18c1d75e748e9a632f1f34418e745",
       "version_major": 2,
       "version_minor": 0
      },
      "text/plain": [
       "  0%|          | 0/1 [00:00<?, ?it/s]"
      ]
     },
     "metadata": {},
     "output_type": "display_data"
    },
    {
     "name": "stdout",
     "output_type": "stream",
     "text": [
      "Current split: 7\n"
     ]
    },
    {
     "data": {
      "application/vnd.jupyter.widget-view+json": {
       "model_id": "06cbc5fdbb7e454b98ee2c0e7ff50724",
       "version_major": 2,
       "version_minor": 0
      },
      "text/plain": [
       "  0%|          | 0/2 [00:00<?, ?it/s]"
      ]
     },
     "metadata": {},
     "output_type": "display_data"
    },
    {
     "data": {
      "application/vnd.jupyter.widget-view+json": {
       "model_id": "b8016156c01a46b3ba0a2f1fcdd494f4",
       "version_major": 2,
       "version_minor": 0
      },
      "text/plain": [
       "  0%|          | 0/2 [00:00<?, ?it/s]"
      ]
     },
     "metadata": {},
     "output_type": "display_data"
    },
    {
     "name": "stdout",
     "output_type": "stream",
     "text": [
      "Current split: 7\n"
     ]
    },
    {
     "data": {
      "application/vnd.jupyter.widget-view+json": {
       "model_id": "fa8e1e25215a4d25915256c2477e4f30",
       "version_major": 2,
       "version_minor": 0
      },
      "text/plain": [
       "  0%|          | 0/2 [00:00<?, ?it/s]"
      ]
     },
     "metadata": {},
     "output_type": "display_data"
    },
    {
     "data": {
      "application/vnd.jupyter.widget-view+json": {
       "model_id": "417643668ee04de19fc88165a98d8a3c",
       "version_major": 2,
       "version_minor": 0
      },
      "text/plain": [
       "  0%|          | 0/2 [00:00<?, ?it/s]"
      ]
     },
     "metadata": {},
     "output_type": "display_data"
    },
    {
     "data": {
      "application/vnd.jupyter.widget-view+json": {
       "model_id": "58f5a58e2df04033a2f44fb0f48877ea",
       "version_major": 2,
       "version_minor": 0
      },
      "text/plain": [
       "  0%|          | 0/2 [00:00<?, ?it/s]"
      ]
     },
     "metadata": {},
     "output_type": "display_data"
    },
    {
     "data": {
      "application/vnd.jupyter.widget-view+json": {
       "model_id": "0b2542b65b9548818a8302a99fbd0d51",
       "version_major": 2,
       "version_minor": 0
      },
      "text/plain": [
       "  0%|          | 0/1 [00:00<?, ?it/s]"
      ]
     },
     "metadata": {},
     "output_type": "display_data"
    },
    {
     "data": {
      "application/vnd.jupyter.widget-view+json": {
       "model_id": "722c887f8c1a4a28a90f071d6ce8239e",
       "version_major": 2,
       "version_minor": 0
      },
      "text/plain": [
       "  0%|          | 0/1 [00:00<?, ?it/s]"
      ]
     },
     "metadata": {},
     "output_type": "display_data"
    },
    {
     "data": {
      "application/vnd.jupyter.widget-view+json": {
       "model_id": "d0c71017646d42d6987fd00a64149f1c",
       "version_major": 2,
       "version_minor": 0
      },
      "text/plain": [
       "  0%|          | 0/2 [00:00<?, ?it/s]"
      ]
     },
     "metadata": {},
     "output_type": "display_data"
    },
    {
     "data": {
      "application/vnd.jupyter.widget-view+json": {
       "model_id": "eb2a2d3a20a441a59e6243532d307076",
       "version_major": 2,
       "version_minor": 0
      },
      "text/plain": [
       "  0%|          | 0/1 [00:00<?, ?it/s]"
      ]
     },
     "metadata": {},
     "output_type": "display_data"
    },
    {
     "data": {
      "application/vnd.jupyter.widget-view+json": {
       "model_id": "622bc2193ad94079aa590807b0ab7173",
       "version_major": 2,
       "version_minor": 0
      },
      "text/plain": [
       "  0%|          | 0/1 [00:00<?, ?it/s]"
      ]
     },
     "metadata": {},
     "output_type": "display_data"
    },
    {
     "data": {
      "application/vnd.jupyter.widget-view+json": {
       "model_id": "2011c5abf0cd4ac3b849180340c1dddd",
       "version_major": 2,
       "version_minor": 0
      },
      "text/plain": [
       "  0%|          | 0/1 [00:00<?, ?it/s]"
      ]
     },
     "metadata": {},
     "output_type": "display_data"
    },
    {
     "data": {
      "application/vnd.jupyter.widget-view+json": {
       "model_id": "33e8139a452a4460acc6d008c6dd5b7d",
       "version_major": 2,
       "version_minor": 0
      },
      "text/plain": [
       "  0%|          | 0/1 [00:00<?, ?it/s]"
      ]
     },
     "metadata": {},
     "output_type": "display_data"
    },
    {
     "name": "stdout",
     "output_type": "stream",
     "text": [
      "Current split: 8\n"
     ]
    },
    {
     "data": {
      "application/vnd.jupyter.widget-view+json": {
       "model_id": "f240de73fce6437b8bfa024a105c3e8c",
       "version_major": 2,
       "version_minor": 0
      },
      "text/plain": [
       "  0%|          | 0/2 [00:00<?, ?it/s]"
      ]
     },
     "metadata": {},
     "output_type": "display_data"
    },
    {
     "data": {
      "application/vnd.jupyter.widget-view+json": {
       "model_id": "7cae38ac98094d59ab6ae4b5b088e977",
       "version_major": 2,
       "version_minor": 0
      },
      "text/plain": [
       "  0%|          | 0/2 [00:00<?, ?it/s]"
      ]
     },
     "metadata": {},
     "output_type": "display_data"
    },
    {
     "name": "stdout",
     "output_type": "stream",
     "text": [
      "Current split: 8\n"
     ]
    },
    {
     "data": {
      "application/vnd.jupyter.widget-view+json": {
       "model_id": "f5945adbb9f3462c94b02a5cec43bcef",
       "version_major": 2,
       "version_minor": 0
      },
      "text/plain": [
       "  0%|          | 0/2 [00:00<?, ?it/s]"
      ]
     },
     "metadata": {},
     "output_type": "display_data"
    },
    {
     "data": {
      "application/vnd.jupyter.widget-view+json": {
       "model_id": "fa5df5cd9b4f488192fda973085069f9",
       "version_major": 2,
       "version_minor": 0
      },
      "text/plain": [
       "  0%|          | 0/2 [00:00<?, ?it/s]"
      ]
     },
     "metadata": {},
     "output_type": "display_data"
    },
    {
     "data": {
      "application/vnd.jupyter.widget-view+json": {
       "model_id": "a90a9199fc8d4fc997e3a78d5270b7a4",
       "version_major": 2,
       "version_minor": 0
      },
      "text/plain": [
       "  0%|          | 0/2 [00:00<?, ?it/s]"
      ]
     },
     "metadata": {},
     "output_type": "display_data"
    },
    {
     "data": {
      "application/vnd.jupyter.widget-view+json": {
       "model_id": "5000fd3b26504fe18f0849a475017c68",
       "version_major": 2,
       "version_minor": 0
      },
      "text/plain": [
       "  0%|          | 0/1 [00:00<?, ?it/s]"
      ]
     },
     "metadata": {},
     "output_type": "display_data"
    },
    {
     "data": {
      "application/vnd.jupyter.widget-view+json": {
       "model_id": "0971e9b4a68e4dc7a4f2c602e5cc5bba",
       "version_major": 2,
       "version_minor": 0
      },
      "text/plain": [
       "  0%|          | 0/1 [00:00<?, ?it/s]"
      ]
     },
     "metadata": {},
     "output_type": "display_data"
    },
    {
     "data": {
      "application/vnd.jupyter.widget-view+json": {
       "model_id": "dafd6d143b854c9da01f0e1aba9019e5",
       "version_major": 2,
       "version_minor": 0
      },
      "text/plain": [
       "  0%|          | 0/2 [00:00<?, ?it/s]"
      ]
     },
     "metadata": {},
     "output_type": "display_data"
    },
    {
     "data": {
      "application/vnd.jupyter.widget-view+json": {
       "model_id": "1316f910e72c41c1828cb3ea53829816",
       "version_major": 2,
       "version_minor": 0
      },
      "text/plain": [
       "  0%|          | 0/1 [00:00<?, ?it/s]"
      ]
     },
     "metadata": {},
     "output_type": "display_data"
    },
    {
     "data": {
      "application/vnd.jupyter.widget-view+json": {
       "model_id": "8791dab170d04ee9913d48750374745a",
       "version_major": 2,
       "version_minor": 0
      },
      "text/plain": [
       "  0%|          | 0/1 [00:00<?, ?it/s]"
      ]
     },
     "metadata": {},
     "output_type": "display_data"
    },
    {
     "data": {
      "application/vnd.jupyter.widget-view+json": {
       "model_id": "705a8c0d547d423887c67aff3e7817de",
       "version_major": 2,
       "version_minor": 0
      },
      "text/plain": [
       "  0%|          | 0/1 [00:00<?, ?it/s]"
      ]
     },
     "metadata": {},
     "output_type": "display_data"
    },
    {
     "data": {
      "application/vnd.jupyter.widget-view+json": {
       "model_id": "9610ec587d7045d98753b33c8f90f552",
       "version_major": 2,
       "version_minor": 0
      },
      "text/plain": [
       "  0%|          | 0/1 [00:00<?, ?it/s]"
      ]
     },
     "metadata": {},
     "output_type": "display_data"
    },
    {
     "name": "stdout",
     "output_type": "stream",
     "text": [
      "Current split: 9\n"
     ]
    },
    {
     "data": {
      "application/vnd.jupyter.widget-view+json": {
       "model_id": "153234bb718e4bc88bfdebce6ac5c101",
       "version_major": 2,
       "version_minor": 0
      },
      "text/plain": [
       "  0%|          | 0/2 [00:00<?, ?it/s]"
      ]
     },
     "metadata": {},
     "output_type": "display_data"
    },
    {
     "data": {
      "application/vnd.jupyter.widget-view+json": {
       "model_id": "01bf2680d81f44e78b5f027c4df3c86c",
       "version_major": 2,
       "version_minor": 0
      },
      "text/plain": [
       "  0%|          | 0/2 [00:00<?, ?it/s]"
      ]
     },
     "metadata": {},
     "output_type": "display_data"
    },
    {
     "name": "stdout",
     "output_type": "stream",
     "text": [
      "Current split: 9\n"
     ]
    },
    {
     "data": {
      "application/vnd.jupyter.widget-view+json": {
       "model_id": "3f081c39f9f1475fb47e3e1407187d56",
       "version_major": 2,
       "version_minor": 0
      },
      "text/plain": [
       "  0%|          | 0/2 [00:00<?, ?it/s]"
      ]
     },
     "metadata": {},
     "output_type": "display_data"
    },
    {
     "data": {
      "application/vnd.jupyter.widget-view+json": {
       "model_id": "92c0a14705b045998fecb07b644c3aa6",
       "version_major": 2,
       "version_minor": 0
      },
      "text/plain": [
       "  0%|          | 0/2 [00:00<?, ?it/s]"
      ]
     },
     "metadata": {},
     "output_type": "display_data"
    },
    {
     "data": {
      "application/vnd.jupyter.widget-view+json": {
       "model_id": "03af27021e724620a659433e1b589156",
       "version_major": 2,
       "version_minor": 0
      },
      "text/plain": [
       "  0%|          | 0/2 [00:00<?, ?it/s]"
      ]
     },
     "metadata": {},
     "output_type": "display_data"
    },
    {
     "data": {
      "application/vnd.jupyter.widget-view+json": {
       "model_id": "ef4310febac24dacad4f5377ba629887",
       "version_major": 2,
       "version_minor": 0
      },
      "text/plain": [
       "  0%|          | 0/1 [00:00<?, ?it/s]"
      ]
     },
     "metadata": {},
     "output_type": "display_data"
    },
    {
     "data": {
      "application/vnd.jupyter.widget-view+json": {
       "model_id": "39d6f646b453432096da5bee8a7693ed",
       "version_major": 2,
       "version_minor": 0
      },
      "text/plain": [
       "  0%|          | 0/2 [00:00<?, ?it/s]"
      ]
     },
     "metadata": {},
     "output_type": "display_data"
    },
    {
     "data": {
      "application/vnd.jupyter.widget-view+json": {
       "model_id": "4ec3234a9a2e4644aecb165869fe365c",
       "version_major": 2,
       "version_minor": 0
      },
      "text/plain": [
       "  0%|          | 0/1 [00:00<?, ?it/s]"
      ]
     },
     "metadata": {},
     "output_type": "display_data"
    },
    {
     "data": {
      "application/vnd.jupyter.widget-view+json": {
       "model_id": "9fa62671a2e94ad7a4092ac1cfe6489d",
       "version_major": 2,
       "version_minor": 0
      },
      "text/plain": [
       "  0%|          | 0/1 [00:00<?, ?it/s]"
      ]
     },
     "metadata": {},
     "output_type": "display_data"
    },
    {
     "data": {
      "application/vnd.jupyter.widget-view+json": {
       "model_id": "548c1ae20222436fad48338f265a6a6e",
       "version_major": 2,
       "version_minor": 0
      },
      "text/plain": [
       "  0%|          | 0/1 [00:00<?, ?it/s]"
      ]
     },
     "metadata": {},
     "output_type": "display_data"
    },
    {
     "data": {
      "application/vnd.jupyter.widget-view+json": {
       "model_id": "46d0f3a8ac8b4297a5604bd5d4645a6b",
       "version_major": 2,
       "version_minor": 0
      },
      "text/plain": [
       "  0%|          | 0/1 [00:00<?, ?it/s]"
      ]
     },
     "metadata": {},
     "output_type": "display_data"
    },
    {
     "data": {
      "application/vnd.jupyter.widget-view+json": {
       "model_id": "8d647674ac494c69af10b1fedd314b4a",
       "version_major": 2,
       "version_minor": 0
      },
      "text/plain": [
       "  0%|          | 0/1 [00:00<?, ?it/s]"
      ]
     },
     "metadata": {},
     "output_type": "display_data"
    },
    {
     "name": "stdout",
     "output_type": "stream",
     "text": [
      "Current split: 10\n"
     ]
    },
    {
     "data": {
      "application/vnd.jupyter.widget-view+json": {
       "model_id": "5949f73d6577465b98cf165784719510",
       "version_major": 2,
       "version_minor": 0
      },
      "text/plain": [
       "  0%|          | 0/2 [00:00<?, ?it/s]"
      ]
     },
     "metadata": {},
     "output_type": "display_data"
    },
    {
     "name": "stdout",
     "output_type": "stream",
     "text": [
      "Current split: 10\n"
     ]
    },
    {
     "data": {
      "application/vnd.jupyter.widget-view+json": {
       "model_id": "efdf491b7a0b4ac0a0f0d6a92ced4850",
       "version_major": 2,
       "version_minor": 0
      },
      "text/plain": [
       "  0%|          | 0/2 [00:00<?, ?it/s]"
      ]
     },
     "metadata": {},
     "output_type": "display_data"
    },
    {
     "data": {
      "application/vnd.jupyter.widget-view+json": {
       "model_id": "3b919ef509e348978dccd7c115d64997",
       "version_major": 2,
       "version_minor": 0
      },
      "text/plain": [
       "  0%|          | 0/2 [00:00<?, ?it/s]"
      ]
     },
     "metadata": {},
     "output_type": "display_data"
    },
    {
     "data": {
      "application/vnd.jupyter.widget-view+json": {
       "model_id": "26141bbbc18f4f14a1bb2614f2ab746a",
       "version_major": 2,
       "version_minor": 0
      },
      "text/plain": [
       "  0%|          | 0/2 [00:00<?, ?it/s]"
      ]
     },
     "metadata": {},
     "output_type": "display_data"
    },
    {
     "data": {
      "application/vnd.jupyter.widget-view+json": {
       "model_id": "3ad7e60953d34484b1c8a03fda102149",
       "version_major": 2,
       "version_minor": 0
      },
      "text/plain": [
       "  0%|          | 0/2 [00:00<?, ?it/s]"
      ]
     },
     "metadata": {},
     "output_type": "display_data"
    },
    {
     "data": {
      "application/vnd.jupyter.widget-view+json": {
       "model_id": "c847ff4dc0fc4af3976c508eb79370b8",
       "version_major": 2,
       "version_minor": 0
      },
      "text/plain": [
       "  0%|          | 0/2 [00:00<?, ?it/s]"
      ]
     },
     "metadata": {},
     "output_type": "display_data"
    },
    {
     "data": {
      "application/vnd.jupyter.widget-view+json": {
       "model_id": "f2ce184cb46646d6a6ebea4969a76701",
       "version_major": 2,
       "version_minor": 0
      },
      "text/plain": [
       "  0%|          | 0/1 [00:00<?, ?it/s]"
      ]
     },
     "metadata": {},
     "output_type": "display_data"
    },
    {
     "data": {
      "application/vnd.jupyter.widget-view+json": {
       "model_id": "3bc16f3def0d4224939d4289bcd97f84",
       "version_major": 2,
       "version_minor": 0
      },
      "text/plain": [
       "  0%|          | 0/1 [00:00<?, ?it/s]"
      ]
     },
     "metadata": {},
     "output_type": "display_data"
    },
    {
     "data": {
      "application/vnd.jupyter.widget-view+json": {
       "model_id": "3d54a935c714466d96b330d4788be599",
       "version_major": 2,
       "version_minor": 0
      },
      "text/plain": [
       "  0%|          | 0/1 [00:00<?, ?it/s]"
      ]
     },
     "metadata": {},
     "output_type": "display_data"
    },
    {
     "data": {
      "application/vnd.jupyter.widget-view+json": {
       "model_id": "7a44786b26bf488d9c4a8ab4cdf39866",
       "version_major": 2,
       "version_minor": 0
      },
      "text/plain": [
       "  0%|          | 0/1 [00:00<?, ?it/s]"
      ]
     },
     "metadata": {},
     "output_type": "display_data"
    },
    {
     "data": {
      "application/vnd.jupyter.widget-view+json": {
       "model_id": "6f308d65faa74cb58825391cef535bdf",
       "version_major": 2,
       "version_minor": 0
      },
      "text/plain": [
       "  0%|          | 0/1 [00:00<?, ?it/s]"
      ]
     },
     "metadata": {},
     "output_type": "display_data"
    },
    {
     "data": {
      "application/vnd.jupyter.widget-view+json": {
       "model_id": "9c10243735e3442abf4160596018ca15",
       "version_major": 2,
       "version_minor": 0
      },
      "text/plain": [
       "  0%|          | 0/1 [00:00<?, ?it/s]"
      ]
     },
     "metadata": {},
     "output_type": "display_data"
    },
    {
     "name": "stdout",
     "output_type": "stream",
     "text": [
      "Total len is 24175388\n",
      "Total len is 24182861\n"
     ]
    }
   ],
   "source": [
    "def generate_dataset_by_chunks(df, pairs, n_splits, label='train'):\n",
    "    count = 0\n",
    "    \n",
    "    for k in tqdm(range(n_splits)):\n",
    "        # split dataset by chunks\n",
    "        print(f'Current split: {k+1}')\n",
    "        cur_data = pairs[pairs['group'] == k]\n",
    "\n",
    "        # add features & model prediction\n",
    "        cur_data = feature_engineering(df, cur_data)\n",
    "\n",
    "        count += len(cur_data)\n",
    "        \n",
    "        # save dataset\n",
    "        cur_data = cur_data.drop('group', axis=1)\n",
    "        if not CFG.debug:\n",
    "            cur_data.to_pickle(f'{CFG.train_path}/{label}_data_{k+1}.pkl')    \n",
    "        \n",
    "        del cur_data\n",
    "        gc.collect()\n",
    "    \n",
    "    print(f'Total len is {count}')\n",
    "    return count\n",
    "\n",
    "if CFG.train or CFG.debug:\n",
    "    with multiprocessing.Pool(processes=2) as pool:\n",
    "        pool.starmap(generate_dataset_by_chunks, [(fold0_df, fold0_df_pairs, CFG.n_splits, 'train'), \n",
    "                                                  (fold1_df, fold1_df_pairs, CFG.n_splits, 'valid')])\n",
    "#     generate_dataset_by_chunks(fold0_df, fold0_df_pairs, CFG.n_splits, 'train')"
   ]
  },
  {
   "cell_type": "markdown",
   "id": "d2b26e76",
   "metadata": {},
   "source": [
    "# Further ideas\n",
    "\n",
    "- ordinal encode main_category and closest_city, set them as categorical features for LGBM\n",
    "- levenstein, jaro, lcs\n",
    "- include multilingual encoder for the full_address\n",
    "\n",
    "- Optuna\n",
    "- stacking of the best Optuna solutions\n",
    "\n",
    "- add Catboost"
   ]
  }
 ],
 "metadata": {
  "kernelspec": {
   "display_name": "Python 3 (ipykernel)",
   "language": "python",
   "name": "python3"
  },
  "language_info": {
   "codemirror_mode": {
    "name": "ipython",
    "version": 3
   },
   "file_extension": ".py",
   "mimetype": "text/x-python",
   "name": "python",
   "nbconvert_exporter": "python",
   "pygments_lexer": "ipython3",
   "version": "3.9.7"
  },
  "papermill": {
   "default_parameters": {},
   "duration": 36.446214,
   "end_time": "2022-06-26T21:10:29.626890",
   "environment_variables": {},
   "exception": null,
   "input_path": "__notebook__.ipynb",
   "output_path": "__notebook__.ipynb",
   "parameters": {},
   "start_time": "2022-06-26T21:09:53.180676",
   "version": "2.3.4"
  }
 },
 "nbformat": 4,
 "nbformat_minor": 5
}
